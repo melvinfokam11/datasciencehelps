{
  "nbformat": 4,
  "nbformat_minor": 0,
  "metadata": {
    "colab": {
      "provenance": [],
      "authorship_tag": "ABX9TyMHo/sWPOZs46TM1NZabeui",
      "include_colab_link": true
    },
    "kernelspec": {
      "name": "python3",
      "display_name": "Python 3"
    },
    "language_info": {
      "name": "python"
    }
  },
  "cells": [
    {
      "cell_type": "markdown",
      "metadata": {
        "id": "view-in-github",
        "colab_type": "text"
      },
      "source": [
        "<a href=\"https://colab.research.google.com/github/melvinfokam11/datasciencehelps/blob/tp/starterbook_helps_for_datascientist_.ipynb\" target=\"_parent\"><img src=\"https://colab.research.google.com/assets/colab-badge.svg\" alt=\"Open In Colab\"/></a>"
      ]
    },
    {
      "cell_type": "code",
      "execution_count": null,
      "metadata": {
        "id": "Kn-Z2Z5FKtAZ"
      },
      "outputs": [],
      "source": [
        "#using the reductionnality method before your work\n",
        "PCA\n",
        "T-SNE \n",
        "#the difference between this 2 methods is the fact that initialy the t-sne method was create  for the visualisation of the data \n"
      ]
    },
    {
      "cell_type": "code",
      "source": [
        "#evaluate the derivate of any function \n"
      ],
      "metadata": {
        "id": "b7ExBLeaLWdC"
      },
      "execution_count": null,
      "outputs": []
    }
  ]
}