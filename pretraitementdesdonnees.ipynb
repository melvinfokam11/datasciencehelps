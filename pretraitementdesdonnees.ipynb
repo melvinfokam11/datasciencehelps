{
  "nbformat": 4,
  "nbformat_minor": 0,
  "metadata": {
    "colab": {
      "provenance": [],
      "collapsed_sections": [
        "tWJ8UFzD5yaX",
        "3W8KOXQO5ypf",
        "bQVXpNdo5yry",
        "2jUueGsc8KzY",
        "t_vVaCp28OWB",
        "2sC9qaUN8UN4",
        "gmeU74ml8fI4",
        "djz1GD-l8hif",
        "URbdIMsj8zWl"
      ],
      "include_colab_link": true
    },
    "kernelspec": {
      "name": "python3",
      "display_name": "Python 3"
    },
    "language_info": {
      "name": "python"
    }
  },
  "cells": [
    {
      "cell_type": "markdown",
      "metadata": {
        "id": "view-in-github",
        "colab_type": "text"
      },
      "source": [
        "<a href=\"https://colab.research.google.com/github/melvinfokam11/datasciencehelps/blob/tp/pretraitementdesdonnees.ipynb\" target=\"_parent\"><img src=\"https://colab.research.google.com/assets/colab-badge.svg\" alt=\"Open In Colab\"/></a>"
      ]
    },
    {
      "cell_type": "markdown",
      "source": [
        "# Réalisez une AFDM "
      ],
      "metadata": {
        "id": "ulq65LCU5yX8"
      }
    },
    {
      "cell_type": "markdown",
      "source": [
        "Nous allons importer nos librairies : "
      ],
      "metadata": {
        "id": "97JZ3oUpDLH1"
      }
    },
    {
      "cell_type": "code",
      "source": [
        "import pandas as pd\n",
        "import numpy as np\n",
        "\n",
        "from sklearn.decomposition import PCA\n",
        "from sklearn.preprocessing import StandardScaler\n",
        "\n",
        "import matplotlib.pyplot as plt\n",
        "from matplotlib.collections import LineCollection\n",
        "\n",
        "import seaborn as sns"
      ],
      "metadata": {
        "id": "GQguJyWL6B5F"
      },
      "execution_count": 2,
      "outputs": []
    },
    {
      "cell_type": "markdown",
      "source": [
        "On 'charge' `seaborn` : "
      ],
      "metadata": {
        "id": "Eh0VdPZtDL9a"
      }
    },
    {
      "cell_type": "code",
      "source": [
        "sns.set()"
      ],
      "metadata": {
        "id": "qQfTzavN6CWs"
      },
      "execution_count": 3,
      "outputs": []
    },
    {
      "cell_type": "markdown",
      "source": [
        "#importation du jeu de donnee"
      ],
      "metadata": {
        "id": "phAzAAUg5yjO"
      }
    },
    {
      "cell_type": "code",
      "source": [
        "df = pd.read_csv(\"dataset.csv\", decimal=\".\", index_col=0)\n",
        "df.head()"
      ],
      "metadata": {
        "colab": {
          "base_uri": "https://localhost:8080/",
          "height": 206
        },
        "id": "nuOlaufp6CwR",
        "outputId": "8fe7ff7c-c786-4498-a061-f181e073dfa8"
      },
      "execution_count": 4,
      "outputs": [
        {
          "output_type": "execute_result",
          "data": {
            "text/plain": [
              "          v1  v2  v3          v4     v5   v6\n",
              "individu                                    \n",
              "I1        -2   3  -1        bien  petit  non\n",
              "I2        -1   1   0  assez bien  petit  non\n",
              "I3         2  -1  -1       bien   grand  oui\n",
              "I4         1  -3   2       echec  petit  non"
            ],
            "text/html": [
              "\n",
              "  <div id=\"df-b3fb1913-684a-4ef2-9f59-ae27dde58f02\">\n",
              "    <div class=\"colab-df-container\">\n",
              "      <div>\n",
              "<style scoped>\n",
              "    .dataframe tbody tr th:only-of-type {\n",
              "        vertical-align: middle;\n",
              "    }\n",
              "\n",
              "    .dataframe tbody tr th {\n",
              "        vertical-align: top;\n",
              "    }\n",
              "\n",
              "    .dataframe thead th {\n",
              "        text-align: right;\n",
              "    }\n",
              "</style>\n",
              "<table border=\"1\" class=\"dataframe\">\n",
              "  <thead>\n",
              "    <tr style=\"text-align: right;\">\n",
              "      <th></th>\n",
              "      <th>v1</th>\n",
              "      <th>v2</th>\n",
              "      <th>v3</th>\n",
              "      <th>v4</th>\n",
              "      <th>v5</th>\n",
              "      <th>v6</th>\n",
              "    </tr>\n",
              "    <tr>\n",
              "      <th>individu</th>\n",
              "      <th></th>\n",
              "      <th></th>\n",
              "      <th></th>\n",
              "      <th></th>\n",
              "      <th></th>\n",
              "      <th></th>\n",
              "    </tr>\n",
              "  </thead>\n",
              "  <tbody>\n",
              "    <tr>\n",
              "      <th>I1</th>\n",
              "      <td>-2</td>\n",
              "      <td>3</td>\n",
              "      <td>-1</td>\n",
              "      <td>bien</td>\n",
              "      <td>petit</td>\n",
              "      <td>non</td>\n",
              "    </tr>\n",
              "    <tr>\n",
              "      <th>I2</th>\n",
              "      <td>-1</td>\n",
              "      <td>1</td>\n",
              "      <td>0</td>\n",
              "      <td>assez bien</td>\n",
              "      <td>petit</td>\n",
              "      <td>non</td>\n",
              "    </tr>\n",
              "    <tr>\n",
              "      <th>I3</th>\n",
              "      <td>2</td>\n",
              "      <td>-1</td>\n",
              "      <td>-1</td>\n",
              "      <td>bien</td>\n",
              "      <td>grand</td>\n",
              "      <td>oui</td>\n",
              "    </tr>\n",
              "    <tr>\n",
              "      <th>I4</th>\n",
              "      <td>1</td>\n",
              "      <td>-3</td>\n",
              "      <td>2</td>\n",
              "      <td>echec</td>\n",
              "      <td>petit</td>\n",
              "      <td>non</td>\n",
              "    </tr>\n",
              "  </tbody>\n",
              "</table>\n",
              "</div>\n",
              "      <button class=\"colab-df-convert\" onclick=\"convertToInteractive('df-b3fb1913-684a-4ef2-9f59-ae27dde58f02')\"\n",
              "              title=\"Convert this dataframe to an interactive table.\"\n",
              "              style=\"display:none;\">\n",
              "        \n",
              "  <svg xmlns=\"http://www.w3.org/2000/svg\" height=\"24px\"viewBox=\"0 0 24 24\"\n",
              "       width=\"24px\">\n",
              "    <path d=\"M0 0h24v24H0V0z\" fill=\"none\"/>\n",
              "    <path d=\"M18.56 5.44l.94 2.06.94-2.06 2.06-.94-2.06-.94-.94-2.06-.94 2.06-2.06.94zm-11 1L8.5 8.5l.94-2.06 2.06-.94-2.06-.94L8.5 2.5l-.94 2.06-2.06.94zm10 10l.94 2.06.94-2.06 2.06-.94-2.06-.94-.94-2.06-.94 2.06-2.06.94z\"/><path d=\"M17.41 7.96l-1.37-1.37c-.4-.4-.92-.59-1.43-.59-.52 0-1.04.2-1.43.59L10.3 9.45l-7.72 7.72c-.78.78-.78 2.05 0 2.83L4 21.41c.39.39.9.59 1.41.59.51 0 1.02-.2 1.41-.59l7.78-7.78 2.81-2.81c.8-.78.8-2.07 0-2.86zM5.41 20L4 18.59l7.72-7.72 1.47 1.35L5.41 20z\"/>\n",
              "  </svg>\n",
              "      </button>\n",
              "      \n",
              "  <style>\n",
              "    .colab-df-container {\n",
              "      display:flex;\n",
              "      flex-wrap:wrap;\n",
              "      gap: 12px;\n",
              "    }\n",
              "\n",
              "    .colab-df-convert {\n",
              "      background-color: #E8F0FE;\n",
              "      border: none;\n",
              "      border-radius: 50%;\n",
              "      cursor: pointer;\n",
              "      display: none;\n",
              "      fill: #1967D2;\n",
              "      height: 32px;\n",
              "      padding: 0 0 0 0;\n",
              "      width: 32px;\n",
              "    }\n",
              "\n",
              "    .colab-df-convert:hover {\n",
              "      background-color: #E2EBFA;\n",
              "      box-shadow: 0px 1px 2px rgba(60, 64, 67, 0.3), 0px 1px 3px 1px rgba(60, 64, 67, 0.15);\n",
              "      fill: #174EA6;\n",
              "    }\n",
              "\n",
              "    [theme=dark] .colab-df-convert {\n",
              "      background-color: #3B4455;\n",
              "      fill: #D2E3FC;\n",
              "    }\n",
              "\n",
              "    [theme=dark] .colab-df-convert:hover {\n",
              "      background-color: #434B5C;\n",
              "      box-shadow: 0px 1px 3px 1px rgba(0, 0, 0, 0.15);\n",
              "      filter: drop-shadow(0px 1px 2px rgba(0, 0, 0, 0.3));\n",
              "      fill: #FFFFFF;\n",
              "    }\n",
              "  </style>\n",
              "\n",
              "      <script>\n",
              "        const buttonEl =\n",
              "          document.querySelector('#df-b3fb1913-684a-4ef2-9f59-ae27dde58f02 button.colab-df-convert');\n",
              "        buttonEl.style.display =\n",
              "          google.colab.kernel.accessAllowed ? 'block' : 'none';\n",
              "\n",
              "        async function convertToInteractive(key) {\n",
              "          const element = document.querySelector('#df-b3fb1913-684a-4ef2-9f59-ae27dde58f02');\n",
              "          const dataTable =\n",
              "            await google.colab.kernel.invokeFunction('convertToInteractive',\n",
              "                                                     [key], {});\n",
              "          if (!dataTable) return;\n",
              "\n",
              "          const docLinkHtml = 'Like what you see? Visit the ' +\n",
              "            '<a target=\"_blank\" href=https://colab.research.google.com/notebooks/data_table.ipynb>data table notebook</a>'\n",
              "            + ' to learn more about interactive tables.';\n",
              "          element.innerHTML = '';\n",
              "          dataTable['output_type'] = 'display_data';\n",
              "          await google.colab.output.renderOutput(dataTable, element);\n",
              "          const docLink = document.createElement('div');\n",
              "          docLink.innerHTML = docLinkHtml;\n",
              "          element.appendChild(docLink);\n",
              "        }\n",
              "      </script>\n",
              "    </div>\n",
              "  </div>\n",
              "  "
            ]
          },
          "metadata": {},
          "execution_count": 4
        }
      ]
    },
    {
      "cell_type": "markdown",
      "source": [
        "# 2 Data Preparation"
      ],
      "metadata": {
        "id": "3W8KOXQO5ypf"
      }
    },
    {
      "cell_type": "markdown",
      "source": [
        "la premiere etape consiste a faire l'operation de pretraitement des donnees."
      ],
      "metadata": {
        "id": "jLItqV7XDhiR"
      }
    },
    {
      "cell_type": "markdown",
      "source": [
        "## 2.1 description du jeu de donnee"
      ],
      "metadata": {
        "id": "GbAAA1hl9tvo"
      }
    },
    {
      "cell_type": "markdown",
      "source": [
        "affichage du jeu de donnee "
      ],
      "metadata": {
        "id": "zNkwWo5ODoOO"
      }
    },
    {
      "cell_type": "code",
      "source": [
        "df.head()"
      ],
      "metadata": {
        "colab": {
          "base_uri": "https://localhost:8080/",
          "height": 206
        },
        "id": "FoH7DT_69vYi",
        "outputId": "487861c9-90c1-48fb-e845-e570945dfc6c"
      },
      "execution_count": 5,
      "outputs": [
        {
          "output_type": "execute_result",
          "data": {
            "text/plain": [
              "          v1  v2  v3          v4     v5   v6\n",
              "individu                                    \n",
              "I1        -2   3  -1        bien  petit  non\n",
              "I2        -1   1   0  assez bien  petit  non\n",
              "I3         2  -1  -1       bien   grand  oui\n",
              "I4         1  -3   2       echec  petit  non"
            ],
            "text/html": [
              "\n",
              "  <div id=\"df-eefe3af7-94b9-4c2c-b252-929441754063\">\n",
              "    <div class=\"colab-df-container\">\n",
              "      <div>\n",
              "<style scoped>\n",
              "    .dataframe tbody tr th:only-of-type {\n",
              "        vertical-align: middle;\n",
              "    }\n",
              "\n",
              "    .dataframe tbody tr th {\n",
              "        vertical-align: top;\n",
              "    }\n",
              "\n",
              "    .dataframe thead th {\n",
              "        text-align: right;\n",
              "    }\n",
              "</style>\n",
              "<table border=\"1\" class=\"dataframe\">\n",
              "  <thead>\n",
              "    <tr style=\"text-align: right;\">\n",
              "      <th></th>\n",
              "      <th>v1</th>\n",
              "      <th>v2</th>\n",
              "      <th>v3</th>\n",
              "      <th>v4</th>\n",
              "      <th>v5</th>\n",
              "      <th>v6</th>\n",
              "    </tr>\n",
              "    <tr>\n",
              "      <th>individu</th>\n",
              "      <th></th>\n",
              "      <th></th>\n",
              "      <th></th>\n",
              "      <th></th>\n",
              "      <th></th>\n",
              "      <th></th>\n",
              "    </tr>\n",
              "  </thead>\n",
              "  <tbody>\n",
              "    <tr>\n",
              "      <th>I1</th>\n",
              "      <td>-2</td>\n",
              "      <td>3</td>\n",
              "      <td>-1</td>\n",
              "      <td>bien</td>\n",
              "      <td>petit</td>\n",
              "      <td>non</td>\n",
              "    </tr>\n",
              "    <tr>\n",
              "      <th>I2</th>\n",
              "      <td>-1</td>\n",
              "      <td>1</td>\n",
              "      <td>0</td>\n",
              "      <td>assez bien</td>\n",
              "      <td>petit</td>\n",
              "      <td>non</td>\n",
              "    </tr>\n",
              "    <tr>\n",
              "      <th>I3</th>\n",
              "      <td>2</td>\n",
              "      <td>-1</td>\n",
              "      <td>-1</td>\n",
              "      <td>bien</td>\n",
              "      <td>grand</td>\n",
              "      <td>oui</td>\n",
              "    </tr>\n",
              "    <tr>\n",
              "      <th>I4</th>\n",
              "      <td>1</td>\n",
              "      <td>-3</td>\n",
              "      <td>2</td>\n",
              "      <td>echec</td>\n",
              "      <td>petit</td>\n",
              "      <td>non</td>\n",
              "    </tr>\n",
              "  </tbody>\n",
              "</table>\n",
              "</div>\n",
              "      <button class=\"colab-df-convert\" onclick=\"convertToInteractive('df-eefe3af7-94b9-4c2c-b252-929441754063')\"\n",
              "              title=\"Convert this dataframe to an interactive table.\"\n",
              "              style=\"display:none;\">\n",
              "        \n",
              "  <svg xmlns=\"http://www.w3.org/2000/svg\" height=\"24px\"viewBox=\"0 0 24 24\"\n",
              "       width=\"24px\">\n",
              "    <path d=\"M0 0h24v24H0V0z\" fill=\"none\"/>\n",
              "    <path d=\"M18.56 5.44l.94 2.06.94-2.06 2.06-.94-2.06-.94-.94-2.06-.94 2.06-2.06.94zm-11 1L8.5 8.5l.94-2.06 2.06-.94-2.06-.94L8.5 2.5l-.94 2.06-2.06.94zm10 10l.94 2.06.94-2.06 2.06-.94-2.06-.94-.94-2.06-.94 2.06-2.06.94z\"/><path d=\"M17.41 7.96l-1.37-1.37c-.4-.4-.92-.59-1.43-.59-.52 0-1.04.2-1.43.59L10.3 9.45l-7.72 7.72c-.78.78-.78 2.05 0 2.83L4 21.41c.39.39.9.59 1.41.59.51 0 1.02-.2 1.41-.59l7.78-7.78 2.81-2.81c.8-.78.8-2.07 0-2.86zM5.41 20L4 18.59l7.72-7.72 1.47 1.35L5.41 20z\"/>\n",
              "  </svg>\n",
              "      </button>\n",
              "      \n",
              "  <style>\n",
              "    .colab-df-container {\n",
              "      display:flex;\n",
              "      flex-wrap:wrap;\n",
              "      gap: 12px;\n",
              "    }\n",
              "\n",
              "    .colab-df-convert {\n",
              "      background-color: #E8F0FE;\n",
              "      border: none;\n",
              "      border-radius: 50%;\n",
              "      cursor: pointer;\n",
              "      display: none;\n",
              "      fill: #1967D2;\n",
              "      height: 32px;\n",
              "      padding: 0 0 0 0;\n",
              "      width: 32px;\n",
              "    }\n",
              "\n",
              "    .colab-df-convert:hover {\n",
              "      background-color: #E2EBFA;\n",
              "      box-shadow: 0px 1px 2px rgba(60, 64, 67, 0.3), 0px 1px 3px 1px rgba(60, 64, 67, 0.15);\n",
              "      fill: #174EA6;\n",
              "    }\n",
              "\n",
              "    [theme=dark] .colab-df-convert {\n",
              "      background-color: #3B4455;\n",
              "      fill: #D2E3FC;\n",
              "    }\n",
              "\n",
              "    [theme=dark] .colab-df-convert:hover {\n",
              "      background-color: #434B5C;\n",
              "      box-shadow: 0px 1px 3px 1px rgba(0, 0, 0, 0.15);\n",
              "      filter: drop-shadow(0px 1px 2px rgba(0, 0, 0, 0.3));\n",
              "      fill: #FFFFFF;\n",
              "    }\n",
              "  </style>\n",
              "\n",
              "      <script>\n",
              "        const buttonEl =\n",
              "          document.querySelector('#df-eefe3af7-94b9-4c2c-b252-929441754063 button.colab-df-convert');\n",
              "        buttonEl.style.display =\n",
              "          google.colab.kernel.accessAllowed ? 'block' : 'none';\n",
              "\n",
              "        async function convertToInteractive(key) {\n",
              "          const element = document.querySelector('#df-eefe3af7-94b9-4c2c-b252-929441754063');\n",
              "          const dataTable =\n",
              "            await google.colab.kernel.invokeFunction('convertToInteractive',\n",
              "                                                     [key], {});\n",
              "          if (!dataTable) return;\n",
              "\n",
              "          const docLinkHtml = 'Like what you see? Visit the ' +\n",
              "            '<a target=\"_blank\" href=https://colab.research.google.com/notebooks/data_table.ipynb>data table notebook</a>'\n",
              "            + ' to learn more about interactive tables.';\n",
              "          element.innerHTML = '';\n",
              "          dataTable['output_type'] = 'display_data';\n",
              "          await google.colab.output.renderOutput(dataTable, element);\n",
              "          const docLink = document.createElement('div');\n",
              "          docLink.innerHTML = docLinkHtml;\n",
              "          element.appendChild(docLink);\n",
              "        }\n",
              "      </script>\n",
              "    </div>\n",
              "  </div>\n",
              "  "
            ]
          },
          "metadata": {},
          "execution_count": 5
        }
      ]
    },
    {
      "cell_type": "code",
      "source": [
        "df.tail()"
      ],
      "metadata": {
        "colab": {
          "base_uri": "https://localhost:8080/",
          "height": 206
        },
        "id": "ZB9bktAO9whM",
        "outputId": "a393ae72-0f10-4b14-e7ea-5c671eea5714"
      },
      "execution_count": 6,
      "outputs": [
        {
          "output_type": "execute_result",
          "data": {
            "text/plain": [
              "          v1  v2  v3          v4     v5   v6\n",
              "individu                                    \n",
              "I1        -2   3  -1        bien  petit  non\n",
              "I2        -1   1   0  assez bien  petit  non\n",
              "I3         2  -1  -1       bien   grand  oui\n",
              "I4         1  -3   2       echec  petit  non"
            ],
            "text/html": [
              "\n",
              "  <div id=\"df-15c4e860-d43d-4e86-8210-a04e42761a62\">\n",
              "    <div class=\"colab-df-container\">\n",
              "      <div>\n",
              "<style scoped>\n",
              "    .dataframe tbody tr th:only-of-type {\n",
              "        vertical-align: middle;\n",
              "    }\n",
              "\n",
              "    .dataframe tbody tr th {\n",
              "        vertical-align: top;\n",
              "    }\n",
              "\n",
              "    .dataframe thead th {\n",
              "        text-align: right;\n",
              "    }\n",
              "</style>\n",
              "<table border=\"1\" class=\"dataframe\">\n",
              "  <thead>\n",
              "    <tr style=\"text-align: right;\">\n",
              "      <th></th>\n",
              "      <th>v1</th>\n",
              "      <th>v2</th>\n",
              "      <th>v3</th>\n",
              "      <th>v4</th>\n",
              "      <th>v5</th>\n",
              "      <th>v6</th>\n",
              "    </tr>\n",
              "    <tr>\n",
              "      <th>individu</th>\n",
              "      <th></th>\n",
              "      <th></th>\n",
              "      <th></th>\n",
              "      <th></th>\n",
              "      <th></th>\n",
              "      <th></th>\n",
              "    </tr>\n",
              "  </thead>\n",
              "  <tbody>\n",
              "    <tr>\n",
              "      <th>I1</th>\n",
              "      <td>-2</td>\n",
              "      <td>3</td>\n",
              "      <td>-1</td>\n",
              "      <td>bien</td>\n",
              "      <td>petit</td>\n",
              "      <td>non</td>\n",
              "    </tr>\n",
              "    <tr>\n",
              "      <th>I2</th>\n",
              "      <td>-1</td>\n",
              "      <td>1</td>\n",
              "      <td>0</td>\n",
              "      <td>assez bien</td>\n",
              "      <td>petit</td>\n",
              "      <td>non</td>\n",
              "    </tr>\n",
              "    <tr>\n",
              "      <th>I3</th>\n",
              "      <td>2</td>\n",
              "      <td>-1</td>\n",
              "      <td>-1</td>\n",
              "      <td>bien</td>\n",
              "      <td>grand</td>\n",
              "      <td>oui</td>\n",
              "    </tr>\n",
              "    <tr>\n",
              "      <th>I4</th>\n",
              "      <td>1</td>\n",
              "      <td>-3</td>\n",
              "      <td>2</td>\n",
              "      <td>echec</td>\n",
              "      <td>petit</td>\n",
              "      <td>non</td>\n",
              "    </tr>\n",
              "  </tbody>\n",
              "</table>\n",
              "</div>\n",
              "      <button class=\"colab-df-convert\" onclick=\"convertToInteractive('df-15c4e860-d43d-4e86-8210-a04e42761a62')\"\n",
              "              title=\"Convert this dataframe to an interactive table.\"\n",
              "              style=\"display:none;\">\n",
              "        \n",
              "  <svg xmlns=\"http://www.w3.org/2000/svg\" height=\"24px\"viewBox=\"0 0 24 24\"\n",
              "       width=\"24px\">\n",
              "    <path d=\"M0 0h24v24H0V0z\" fill=\"none\"/>\n",
              "    <path d=\"M18.56 5.44l.94 2.06.94-2.06 2.06-.94-2.06-.94-.94-2.06-.94 2.06-2.06.94zm-11 1L8.5 8.5l.94-2.06 2.06-.94-2.06-.94L8.5 2.5l-.94 2.06-2.06.94zm10 10l.94 2.06.94-2.06 2.06-.94-2.06-.94-.94-2.06-.94 2.06-2.06.94z\"/><path d=\"M17.41 7.96l-1.37-1.37c-.4-.4-.92-.59-1.43-.59-.52 0-1.04.2-1.43.59L10.3 9.45l-7.72 7.72c-.78.78-.78 2.05 0 2.83L4 21.41c.39.39.9.59 1.41.59.51 0 1.02-.2 1.41-.59l7.78-7.78 2.81-2.81c.8-.78.8-2.07 0-2.86zM5.41 20L4 18.59l7.72-7.72 1.47 1.35L5.41 20z\"/>\n",
              "  </svg>\n",
              "      </button>\n",
              "      \n",
              "  <style>\n",
              "    .colab-df-container {\n",
              "      display:flex;\n",
              "      flex-wrap:wrap;\n",
              "      gap: 12px;\n",
              "    }\n",
              "\n",
              "    .colab-df-convert {\n",
              "      background-color: #E8F0FE;\n",
              "      border: none;\n",
              "      border-radius: 50%;\n",
              "      cursor: pointer;\n",
              "      display: none;\n",
              "      fill: #1967D2;\n",
              "      height: 32px;\n",
              "      padding: 0 0 0 0;\n",
              "      width: 32px;\n",
              "    }\n",
              "\n",
              "    .colab-df-convert:hover {\n",
              "      background-color: #E2EBFA;\n",
              "      box-shadow: 0px 1px 2px rgba(60, 64, 67, 0.3), 0px 1px 3px 1px rgba(60, 64, 67, 0.15);\n",
              "      fill: #174EA6;\n",
              "    }\n",
              "\n",
              "    [theme=dark] .colab-df-convert {\n",
              "      background-color: #3B4455;\n",
              "      fill: #D2E3FC;\n",
              "    }\n",
              "\n",
              "    [theme=dark] .colab-df-convert:hover {\n",
              "      background-color: #434B5C;\n",
              "      box-shadow: 0px 1px 3px 1px rgba(0, 0, 0, 0.15);\n",
              "      filter: drop-shadow(0px 1px 2px rgba(0, 0, 0, 0.3));\n",
              "      fill: #FFFFFF;\n",
              "    }\n",
              "  </style>\n",
              "\n",
              "      <script>\n",
              "        const buttonEl =\n",
              "          document.querySelector('#df-15c4e860-d43d-4e86-8210-a04e42761a62 button.colab-df-convert');\n",
              "        buttonEl.style.display =\n",
              "          google.colab.kernel.accessAllowed ? 'block' : 'none';\n",
              "\n",
              "        async function convertToInteractive(key) {\n",
              "          const element = document.querySelector('#df-15c4e860-d43d-4e86-8210-a04e42761a62');\n",
              "          const dataTable =\n",
              "            await google.colab.kernel.invokeFunction('convertToInteractive',\n",
              "                                                     [key], {});\n",
              "          if (!dataTable) return;\n",
              "\n",
              "          const docLinkHtml = 'Like what you see? Visit the ' +\n",
              "            '<a target=\"_blank\" href=https://colab.research.google.com/notebooks/data_table.ipynb>data table notebook</a>'\n",
              "            + ' to learn more about interactive tables.';\n",
              "          element.innerHTML = '';\n",
              "          dataTable['output_type'] = 'display_data';\n",
              "          await google.colab.output.renderOutput(dataTable, element);\n",
              "          const docLink = document.createElement('div');\n",
              "          docLink.innerHTML = docLinkHtml;\n",
              "          element.appendChild(docLink);\n",
              "        }\n",
              "      </script>\n",
              "    </div>\n",
              "  </div>\n",
              "  "
            ]
          },
          "metadata": {},
          "execution_count": 6
        }
      ]
    },
    {
      "cell_type": "markdown",
      "source": [
        "Quelle est la dimension de notre dataframe? "
      ],
      "metadata": {
        "id": "B1TCCVMiDvup"
      }
    },
    {
      "cell_type": "code",
      "source": [
        "df.shape"
      ],
      "metadata": {
        "colab": {
          "base_uri": "https://localhost:8080/"
        },
        "id": "Qj6jjInk9xX0",
        "outputId": "c863c209-b439-44ed-dab7-8f8cfec56dbe"
      },
      "execution_count": 7,
      "outputs": [
        {
          "output_type": "execute_result",
          "data": {
            "text/plain": [
              "(4, 6)"
            ]
          },
          "metadata": {},
          "execution_count": 7
        }
      ]
    },
    {
      "cell_type": "markdown",
      "source": [
        "indications globales du jeu de donnee : "
      ],
      "metadata": {
        "id": "jXSudJ3rDu9N"
      }
    },
    {
      "cell_type": "code",
      "source": [
        "df.info()"
      ],
      "metadata": {
        "colab": {
          "base_uri": "https://localhost:8080/"
        },
        "id": "Wnzh1nbI9zEC",
        "outputId": "454ca3eb-67ee-4033-ab1d-b92a405218b5"
      },
      "execution_count": 8,
      "outputs": [
        {
          "output_type": "stream",
          "name": "stdout",
          "text": [
            "<class 'pandas.core.frame.DataFrame'>\n",
            "Index: 4 entries, I1 to I4\n",
            "Data columns (total 6 columns):\n",
            " #   Column  Non-Null Count  Dtype \n",
            "---  ------  --------------  ----- \n",
            " 0   v1      4 non-null      int64 \n",
            " 1   v2      4 non-null      int64 \n",
            " 2   v3      4 non-null      int64 \n",
            " 3   v4      4 non-null      object\n",
            " 4   v5      4 non-null      object\n",
            " 5   v6      4 non-null      object\n",
            "dtypes: int64(3), object(3)\n",
            "memory usage: 224.0+ bytes\n"
          ]
        }
      ]
    },
    {
      "cell_type": "markdown",
      "source": [
        "Quel est le % de valeurs manquantes par colonne ? "
      ],
      "metadata": {
        "id": "NPvmwuYRD6Ep"
      }
    },
    {
      "cell_type": "code",
      "source": [
        "df.isna().mean()"
      ],
      "metadata": {
        "colab": {
          "base_uri": "https://localhost:8080/"
        },
        "id": "nS08CAZI90md",
        "outputId": "8aceaa0b-69a3-4ba6-ccdd-e214e40695c0"
      },
      "execution_count": 9,
      "outputs": [
        {
          "output_type": "execute_result",
          "data": {
            "text/plain": [
              "v1    0.0\n",
              "v2    0.0\n",
              "v3    0.0\n",
              "v4    0.0\n",
              "v5    0.0\n",
              "v6    0.0\n",
              "dtype: float64"
            ]
          },
          "metadata": {},
          "execution_count": 9
        }
      ]
    },
    {
      "cell_type": "markdown",
      "source": [
        "Y a-t-il des lignes en double ? "
      ],
      "metadata": {
        "id": "KhcLscVND96u"
      }
    },
    {
      "cell_type": "code",
      "source": [
        "df.duplicated().sum()"
      ],
      "metadata": {
        "colab": {
          "base_uri": "https://localhost:8080/"
        },
        "id": "QFtmUC7B96Tt",
        "outputId": "503f8f37-b264-4b31-9169-571f85f2bf8b"
      },
      "execution_count": 10,
      "outputs": [
        {
          "output_type": "execute_result",
          "data": {
            "text/plain": [
              "0"
            ]
          },
          "metadata": {},
          "execution_count": 10
        }
      ]
    },
    {
      "cell_type": "markdown",
      "source": [
        "Combien y a-t-il de valeurs différentes par colonne ? "
      ],
      "metadata": {
        "id": "wPxEnq7cEBEs"
      }
    },
    {
      "cell_type": "code",
      "source": [
        "df.nunique()"
      ],
      "metadata": {
        "colab": {
          "base_uri": "https://localhost:8080/"
        },
        "id": "F-trAkxw92pn",
        "outputId": "9a14c2f5-09b6-48bf-be0c-e69da77061fc"
      },
      "execution_count": 11,
      "outputs": [
        {
          "output_type": "execute_result",
          "data": {
            "text/plain": [
              "v1    4\n",
              "v2    4\n",
              "v3    3\n",
              "v4    4\n",
              "v5    2\n",
              "v6    2\n",
              "dtype: int64"
            ]
          },
          "metadata": {},
          "execution_count": 11
        }
      ]
    },
    {
      "cell_type": "markdown",
      "source": [
        "information general du jeu de donnee: "
      ],
      "metadata": {
        "id": "EzJEgmTjEH3I"
      }
    },
    {
      "cell_type": "code",
      "source": [
        "df.describe()"
      ],
      "metadata": {
        "colab": {
          "base_uri": "https://localhost:8080/",
          "height": 364
        },
        "id": "e19s2GT594rf",
        "outputId": "a1e56f07-f81e-46fe-e3ed-45a50a2b2ec8"
      },
      "execution_count": null,
      "outputs": [
        {
          "output_type": "execute_result",
          "data": {
            "text/plain": [
              "       inscription  progression  moyenneDeClasse      duree  difficulte  \\\n",
              "count    19.000000    19.000000        15.000000  18.000000   19.000000   \n",
              "mean    235.473684    44.052632        89.400000  15.000000    1.894737   \n",
              "std     167.684349    36.326412         3.996427  10.318459    0.657836   \n",
              "min      29.000000     2.000000        84.000000   1.000000    1.000000   \n",
              "25%     134.000000     4.000000        85.500000   8.500000    1.500000   \n",
              "50%     195.000000    44.000000        90.000000  13.500000    2.000000   \n",
              "75%     310.500000    70.000000        92.000000  20.000000    2.000000   \n",
              "max     713.000000   100.000000        96.000000  40.000000    3.000000   \n",
              "\n",
              "       nbChapitres  ratioQuizEvaluation  nbEvaluations  derniereMiseAJour  \\\n",
              "count    19.000000            16.000000      19.000000          19.000000   \n",
              "mean     15.210526             0.617560       2.947368          78.578947   \n",
              "std       9.223032             0.246053       1.715086          63.453671   \n",
              "min       1.000000             0.000000       0.000000           8.000000   \n",
              "25%       8.500000             0.500000       2.000000          22.000000   \n",
              "50%      13.000000             0.666667       3.000000          61.000000   \n",
              "75%      20.500000             0.750000       4.000000         146.500000   \n",
              "max      38.000000             1.000000       7.000000         186.000000   \n",
              "\n",
              "            idCours  \n",
              "count  1.900000e+01  \n",
              "mean   3.967983e+06  \n",
              "std    1.075638e+06  \n",
              "min    2.353440e+05  \n",
              "25%    4.056556e+06  \n",
              "50%    4.421146e+06  \n",
              "75%    4.469006e+06  \n",
              "max    4.525306e+06  "
            ],
            "text/html": [
              "\n",
              "  <div id=\"df-9c5ee080-0de4-4c33-b6c2-47a03b6003f5\">\n",
              "    <div class=\"colab-df-container\">\n",
              "      <div>\n",
              "<style scoped>\n",
              "    .dataframe tbody tr th:only-of-type {\n",
              "        vertical-align: middle;\n",
              "    }\n",
              "\n",
              "    .dataframe tbody tr th {\n",
              "        vertical-align: top;\n",
              "    }\n",
              "\n",
              "    .dataframe thead th {\n",
              "        text-align: right;\n",
              "    }\n",
              "</style>\n",
              "<table border=\"1\" class=\"dataframe\">\n",
              "  <thead>\n",
              "    <tr style=\"text-align: right;\">\n",
              "      <th></th>\n",
              "      <th>inscription</th>\n",
              "      <th>progression</th>\n",
              "      <th>moyenneDeClasse</th>\n",
              "      <th>duree</th>\n",
              "      <th>difficulte</th>\n",
              "      <th>nbChapitres</th>\n",
              "      <th>ratioQuizEvaluation</th>\n",
              "      <th>nbEvaluations</th>\n",
              "      <th>derniereMiseAJour</th>\n",
              "      <th>idCours</th>\n",
              "    </tr>\n",
              "  </thead>\n",
              "  <tbody>\n",
              "    <tr>\n",
              "      <th>count</th>\n",
              "      <td>19.000000</td>\n",
              "      <td>19.000000</td>\n",
              "      <td>15.000000</td>\n",
              "      <td>18.000000</td>\n",
              "      <td>19.000000</td>\n",
              "      <td>19.000000</td>\n",
              "      <td>16.000000</td>\n",
              "      <td>19.000000</td>\n",
              "      <td>19.000000</td>\n",
              "      <td>1.900000e+01</td>\n",
              "    </tr>\n",
              "    <tr>\n",
              "      <th>mean</th>\n",
              "      <td>235.473684</td>\n",
              "      <td>44.052632</td>\n",
              "      <td>89.400000</td>\n",
              "      <td>15.000000</td>\n",
              "      <td>1.894737</td>\n",
              "      <td>15.210526</td>\n",
              "      <td>0.617560</td>\n",
              "      <td>2.947368</td>\n",
              "      <td>78.578947</td>\n",
              "      <td>3.967983e+06</td>\n",
              "    </tr>\n",
              "    <tr>\n",
              "      <th>std</th>\n",
              "      <td>167.684349</td>\n",
              "      <td>36.326412</td>\n",
              "      <td>3.996427</td>\n",
              "      <td>10.318459</td>\n",
              "      <td>0.657836</td>\n",
              "      <td>9.223032</td>\n",
              "      <td>0.246053</td>\n",
              "      <td>1.715086</td>\n",
              "      <td>63.453671</td>\n",
              "      <td>1.075638e+06</td>\n",
              "    </tr>\n",
              "    <tr>\n",
              "      <th>min</th>\n",
              "      <td>29.000000</td>\n",
              "      <td>2.000000</td>\n",
              "      <td>84.000000</td>\n",
              "      <td>1.000000</td>\n",
              "      <td>1.000000</td>\n",
              "      <td>1.000000</td>\n",
              "      <td>0.000000</td>\n",
              "      <td>0.000000</td>\n",
              "      <td>8.000000</td>\n",
              "      <td>2.353440e+05</td>\n",
              "    </tr>\n",
              "    <tr>\n",
              "      <th>25%</th>\n",
              "      <td>134.000000</td>\n",
              "      <td>4.000000</td>\n",
              "      <td>85.500000</td>\n",
              "      <td>8.500000</td>\n",
              "      <td>1.500000</td>\n",
              "      <td>8.500000</td>\n",
              "      <td>0.500000</td>\n",
              "      <td>2.000000</td>\n",
              "      <td>22.000000</td>\n",
              "      <td>4.056556e+06</td>\n",
              "    </tr>\n",
              "    <tr>\n",
              "      <th>50%</th>\n",
              "      <td>195.000000</td>\n",
              "      <td>44.000000</td>\n",
              "      <td>90.000000</td>\n",
              "      <td>13.500000</td>\n",
              "      <td>2.000000</td>\n",
              "      <td>13.000000</td>\n",
              "      <td>0.666667</td>\n",
              "      <td>3.000000</td>\n",
              "      <td>61.000000</td>\n",
              "      <td>4.421146e+06</td>\n",
              "    </tr>\n",
              "    <tr>\n",
              "      <th>75%</th>\n",
              "      <td>310.500000</td>\n",
              "      <td>70.000000</td>\n",
              "      <td>92.000000</td>\n",
              "      <td>20.000000</td>\n",
              "      <td>2.000000</td>\n",
              "      <td>20.500000</td>\n",
              "      <td>0.750000</td>\n",
              "      <td>4.000000</td>\n",
              "      <td>146.500000</td>\n",
              "      <td>4.469006e+06</td>\n",
              "    </tr>\n",
              "    <tr>\n",
              "      <th>max</th>\n",
              "      <td>713.000000</td>\n",
              "      <td>100.000000</td>\n",
              "      <td>96.000000</td>\n",
              "      <td>40.000000</td>\n",
              "      <td>3.000000</td>\n",
              "      <td>38.000000</td>\n",
              "      <td>1.000000</td>\n",
              "      <td>7.000000</td>\n",
              "      <td>186.000000</td>\n",
              "      <td>4.525306e+06</td>\n",
              "    </tr>\n",
              "  </tbody>\n",
              "</table>\n",
              "</div>\n",
              "      <button class=\"colab-df-convert\" onclick=\"convertToInteractive('df-9c5ee080-0de4-4c33-b6c2-47a03b6003f5')\"\n",
              "              title=\"Convert this dataframe to an interactive table.\"\n",
              "              style=\"display:none;\">\n",
              "        \n",
              "  <svg xmlns=\"http://www.w3.org/2000/svg\" height=\"24px\"viewBox=\"0 0 24 24\"\n",
              "       width=\"24px\">\n",
              "    <path d=\"M0 0h24v24H0V0z\" fill=\"none\"/>\n",
              "    <path d=\"M18.56 5.44l.94 2.06.94-2.06 2.06-.94-2.06-.94-.94-2.06-.94 2.06-2.06.94zm-11 1L8.5 8.5l.94-2.06 2.06-.94-2.06-.94L8.5 2.5l-.94 2.06-2.06.94zm10 10l.94 2.06.94-2.06 2.06-.94-2.06-.94-.94-2.06-.94 2.06-2.06.94z\"/><path d=\"M17.41 7.96l-1.37-1.37c-.4-.4-.92-.59-1.43-.59-.52 0-1.04.2-1.43.59L10.3 9.45l-7.72 7.72c-.78.78-.78 2.05 0 2.83L4 21.41c.39.39.9.59 1.41.59.51 0 1.02-.2 1.41-.59l7.78-7.78 2.81-2.81c.8-.78.8-2.07 0-2.86zM5.41 20L4 18.59l7.72-7.72 1.47 1.35L5.41 20z\"/>\n",
              "  </svg>\n",
              "      </button>\n",
              "      \n",
              "  <style>\n",
              "    .colab-df-container {\n",
              "      display:flex;\n",
              "      flex-wrap:wrap;\n",
              "      gap: 12px;\n",
              "    }\n",
              "\n",
              "    .colab-df-convert {\n",
              "      background-color: #E8F0FE;\n",
              "      border: none;\n",
              "      border-radius: 50%;\n",
              "      cursor: pointer;\n",
              "      display: none;\n",
              "      fill: #1967D2;\n",
              "      height: 32px;\n",
              "      padding: 0 0 0 0;\n",
              "      width: 32px;\n",
              "    }\n",
              "\n",
              "    .colab-df-convert:hover {\n",
              "      background-color: #E2EBFA;\n",
              "      box-shadow: 0px 1px 2px rgba(60, 64, 67, 0.3), 0px 1px 3px 1px rgba(60, 64, 67, 0.15);\n",
              "      fill: #174EA6;\n",
              "    }\n",
              "\n",
              "    [theme=dark] .colab-df-convert {\n",
              "      background-color: #3B4455;\n",
              "      fill: #D2E3FC;\n",
              "    }\n",
              "\n",
              "    [theme=dark] .colab-df-convert:hover {\n",
              "      background-color: #434B5C;\n",
              "      box-shadow: 0px 1px 3px 1px rgba(0, 0, 0, 0.15);\n",
              "      filter: drop-shadow(0px 1px 2px rgba(0, 0, 0, 0.3));\n",
              "      fill: #FFFFFF;\n",
              "    }\n",
              "  </style>\n",
              "\n",
              "      <script>\n",
              "        const buttonEl =\n",
              "          document.querySelector('#df-9c5ee080-0de4-4c33-b6c2-47a03b6003f5 button.colab-df-convert');\n",
              "        buttonEl.style.display =\n",
              "          google.colab.kernel.accessAllowed ? 'block' : 'none';\n",
              "\n",
              "        async function convertToInteractive(key) {\n",
              "          const element = document.querySelector('#df-9c5ee080-0de4-4c33-b6c2-47a03b6003f5');\n",
              "          const dataTable =\n",
              "            await google.colab.kernel.invokeFunction('convertToInteractive',\n",
              "                                                     [key], {});\n",
              "          if (!dataTable) return;\n",
              "\n",
              "          const docLinkHtml = 'Like what you see? Visit the ' +\n",
              "            '<a target=\"_blank\" href=https://colab.research.google.com/notebooks/data_table.ipynb>data table notebook</a>'\n",
              "            + ' to learn more about interactive tables.';\n",
              "          element.innerHTML = '';\n",
              "          dataTable['output_type'] = 'display_data';\n",
              "          await google.colab.output.renderOutput(dataTable, element);\n",
              "          const docLink = document.createElement('div');\n",
              "          docLink.innerHTML = docLinkHtml;\n",
              "          element.appendChild(docLink);\n",
              "        }\n",
              "      </script>\n",
              "    </div>\n",
              "  </div>\n",
              "  "
            ]
          },
          "metadata": {},
          "execution_count": 90
        }
      ]
    },
    {
      "cell_type": "markdown",
      "source": [
        "## 2.2 Data selection"
      ],
      "metadata": {
        "id": "bQVXpNdo5yry"
      }
    },
    {
      "cell_type": "markdown",
      "source": [
        "Nous avons une idée *globale* de nos données. Faisons maintenant un peu de *sélection*. On rappelle que notre dataframe a pour dimension : "
      ],
      "metadata": {
        "id": "H2IDFQHmEO_B"
      }
    },
    {
      "cell_type": "code",
      "source": [
        "df.shape"
      ],
      "metadata": {
        "colab": {
          "base_uri": "https://localhost:8080/"
        },
        "id": "ybC7e4R29sZd",
        "outputId": "d3034f34-4dae-4ba1-eac4-5796526cf63f"
      },
      "execution_count": null,
      "outputs": [
        {
          "output_type": "execute_result",
          "data": {
            "text/plain": [
              "(19, 10)"
            ]
          },
          "metadata": {},
          "execution_count": 91
        }
      ]
    },
    {
      "cell_type": "markdown",
      "source": [
        "Nous allons sélectionner d'abord que certaines colones : "
      ],
      "metadata": {
        "id": "-xmE2ir3EcsA"
      }
    },
    {
      "cell_type": "code",
      "source": [
        "cols = [\"inscription\",\"progression\",\"moyenneDeClasse\",\"duree\",\"difficulte\",\"nbChapitres\",\"ratioQuizEvaluation\",\"nbEvaluations\"]"
      ],
      "metadata": {
        "id": "SvI8MX3h9Od4"
      },
      "execution_count": null,
      "outputs": []
    },
    {
      "cell_type": "code",
      "source": [
        "df = df[cols]\n",
        "df.head()"
      ],
      "metadata": {
        "colab": {
          "base_uri": "https://localhost:8080/",
          "height": 302
        },
        "id": "58R8cylU7y_J",
        "outputId": "98a4c115-bbe1-437e-c203-191cad9facea"
      },
      "execution_count": null,
      "outputs": [
        {
          "output_type": "execute_result",
          "data": {
            "text/plain": [
              "                                                    inscription  progression  \\\n",
              "titreCours                                                                     \n",
              "Classez_et_segmentez_des_données_visuelles                   29           34   \n",
              "Initiez-vous_à_la_statistique_inférentielle                  55            4   \n",
              "Maîtrisez_les_bases_des_probabilités                         60          100   \n",
              "Découvrez_les_librairies_Python_pour_la_Data_Sc...           64           64   \n",
              "Devenez_mentor_sur_OpenClassrooms                            76          100   \n",
              "\n",
              "                                                    moyenneDeClasse  duree  \\\n",
              "titreCours                                                                   \n",
              "Classez_et_segmentez_des_données_visuelles                      NaN   15.0   \n",
              "Initiez-vous_à_la_statistique_inférentielle                    86.0   12.0   \n",
              "Maîtrisez_les_bases_des_probabilités                            NaN    NaN   \n",
              "Découvrez_les_librairies_Python_pour_la_Data_Sc...             96.0   10.0   \n",
              "Devenez_mentor_sur_OpenClassrooms                              91.0    6.0   \n",
              "\n",
              "                                                    difficulte  nbChapitres  \\\n",
              "titreCours                                                                    \n",
              "Classez_et_segmentez_des_données_visuelles                   3           11   \n",
              "Initiez-vous_à_la_statistique_inférentielle                  2           21   \n",
              "Maîtrisez_les_bases_des_probabilités                         1            1   \n",
              "Découvrez_les_librairies_Python_pour_la_Data_Sc...           2            8   \n",
              "Devenez_mentor_sur_OpenClassrooms                            1           12   \n",
              "\n",
              "                                                    ratioQuizEvaluation  \\\n",
              "titreCours                                                                \n",
              "Classez_et_segmentez_des_données_visuelles                     0.666667   \n",
              "Initiez-vous_à_la_statistique_inférentielle                    0.750000   \n",
              "Maîtrisez_les_bases_des_probabilités                                NaN   \n",
              "Découvrez_les_librairies_Python_pour_la_Data_Sc...             0.000000   \n",
              "Devenez_mentor_sur_OpenClassrooms                              1.000000   \n",
              "\n",
              "                                                    nbEvaluations  \n",
              "titreCours                                                         \n",
              "Classez_et_segmentez_des_données_visuelles                      3  \n",
              "Initiez-vous_à_la_statistique_inférentielle                     4  \n",
              "Maîtrisez_les_bases_des_probabilités                            0  \n",
              "Découvrez_les_librairies_Python_pour_la_Data_Sc...              2  \n",
              "Devenez_mentor_sur_OpenClassrooms                               3  "
            ],
            "text/html": [
              "\n",
              "  <div id=\"df-c2980581-c931-4731-ba0f-539df50a53cc\">\n",
              "    <div class=\"colab-df-container\">\n",
              "      <div>\n",
              "<style scoped>\n",
              "    .dataframe tbody tr th:only-of-type {\n",
              "        vertical-align: middle;\n",
              "    }\n",
              "\n",
              "    .dataframe tbody tr th {\n",
              "        vertical-align: top;\n",
              "    }\n",
              "\n",
              "    .dataframe thead th {\n",
              "        text-align: right;\n",
              "    }\n",
              "</style>\n",
              "<table border=\"1\" class=\"dataframe\">\n",
              "  <thead>\n",
              "    <tr style=\"text-align: right;\">\n",
              "      <th></th>\n",
              "      <th>inscription</th>\n",
              "      <th>progression</th>\n",
              "      <th>moyenneDeClasse</th>\n",
              "      <th>duree</th>\n",
              "      <th>difficulte</th>\n",
              "      <th>nbChapitres</th>\n",
              "      <th>ratioQuizEvaluation</th>\n",
              "      <th>nbEvaluations</th>\n",
              "    </tr>\n",
              "    <tr>\n",
              "      <th>titreCours</th>\n",
              "      <th></th>\n",
              "      <th></th>\n",
              "      <th></th>\n",
              "      <th></th>\n",
              "      <th></th>\n",
              "      <th></th>\n",
              "      <th></th>\n",
              "      <th></th>\n",
              "    </tr>\n",
              "  </thead>\n",
              "  <tbody>\n",
              "    <tr>\n",
              "      <th>Classez_et_segmentez_des_données_visuelles</th>\n",
              "      <td>29</td>\n",
              "      <td>34</td>\n",
              "      <td>NaN</td>\n",
              "      <td>15.0</td>\n",
              "      <td>3</td>\n",
              "      <td>11</td>\n",
              "      <td>0.666667</td>\n",
              "      <td>3</td>\n",
              "    </tr>\n",
              "    <tr>\n",
              "      <th>Initiez-vous_à_la_statistique_inférentielle</th>\n",
              "      <td>55</td>\n",
              "      <td>4</td>\n",
              "      <td>86.0</td>\n",
              "      <td>12.0</td>\n",
              "      <td>2</td>\n",
              "      <td>21</td>\n",
              "      <td>0.750000</td>\n",
              "      <td>4</td>\n",
              "    </tr>\n",
              "    <tr>\n",
              "      <th>Maîtrisez_les_bases_des_probabilités</th>\n",
              "      <td>60</td>\n",
              "      <td>100</td>\n",
              "      <td>NaN</td>\n",
              "      <td>NaN</td>\n",
              "      <td>1</td>\n",
              "      <td>1</td>\n",
              "      <td>NaN</td>\n",
              "      <td>0</td>\n",
              "    </tr>\n",
              "    <tr>\n",
              "      <th>Découvrez_les_librairies_Python_pour_la_Data_Science</th>\n",
              "      <td>64</td>\n",
              "      <td>64</td>\n",
              "      <td>96.0</td>\n",
              "      <td>10.0</td>\n",
              "      <td>2</td>\n",
              "      <td>8</td>\n",
              "      <td>0.000000</td>\n",
              "      <td>2</td>\n",
              "    </tr>\n",
              "    <tr>\n",
              "      <th>Devenez_mentor_sur_OpenClassrooms</th>\n",
              "      <td>76</td>\n",
              "      <td>100</td>\n",
              "      <td>91.0</td>\n",
              "      <td>6.0</td>\n",
              "      <td>1</td>\n",
              "      <td>12</td>\n",
              "      <td>1.000000</td>\n",
              "      <td>3</td>\n",
              "    </tr>\n",
              "  </tbody>\n",
              "</table>\n",
              "</div>\n",
              "      <button class=\"colab-df-convert\" onclick=\"convertToInteractive('df-c2980581-c931-4731-ba0f-539df50a53cc')\"\n",
              "              title=\"Convert this dataframe to an interactive table.\"\n",
              "              style=\"display:none;\">\n",
              "        \n",
              "  <svg xmlns=\"http://www.w3.org/2000/svg\" height=\"24px\"viewBox=\"0 0 24 24\"\n",
              "       width=\"24px\">\n",
              "    <path d=\"M0 0h24v24H0V0z\" fill=\"none\"/>\n",
              "    <path d=\"M18.56 5.44l.94 2.06.94-2.06 2.06-.94-2.06-.94-.94-2.06-.94 2.06-2.06.94zm-11 1L8.5 8.5l.94-2.06 2.06-.94-2.06-.94L8.5 2.5l-.94 2.06-2.06.94zm10 10l.94 2.06.94-2.06 2.06-.94-2.06-.94-.94-2.06-.94 2.06-2.06.94z\"/><path d=\"M17.41 7.96l-1.37-1.37c-.4-.4-.92-.59-1.43-.59-.52 0-1.04.2-1.43.59L10.3 9.45l-7.72 7.72c-.78.78-.78 2.05 0 2.83L4 21.41c.39.39.9.59 1.41.59.51 0 1.02-.2 1.41-.59l7.78-7.78 2.81-2.81c.8-.78.8-2.07 0-2.86zM5.41 20L4 18.59l7.72-7.72 1.47 1.35L5.41 20z\"/>\n",
              "  </svg>\n",
              "      </button>\n",
              "      \n",
              "  <style>\n",
              "    .colab-df-container {\n",
              "      display:flex;\n",
              "      flex-wrap:wrap;\n",
              "      gap: 12px;\n",
              "    }\n",
              "\n",
              "    .colab-df-convert {\n",
              "      background-color: #E8F0FE;\n",
              "      border: none;\n",
              "      border-radius: 50%;\n",
              "      cursor: pointer;\n",
              "      display: none;\n",
              "      fill: #1967D2;\n",
              "      height: 32px;\n",
              "      padding: 0 0 0 0;\n",
              "      width: 32px;\n",
              "    }\n",
              "\n",
              "    .colab-df-convert:hover {\n",
              "      background-color: #E2EBFA;\n",
              "      box-shadow: 0px 1px 2px rgba(60, 64, 67, 0.3), 0px 1px 3px 1px rgba(60, 64, 67, 0.15);\n",
              "      fill: #174EA6;\n",
              "    }\n",
              "\n",
              "    [theme=dark] .colab-df-convert {\n",
              "      background-color: #3B4455;\n",
              "      fill: #D2E3FC;\n",
              "    }\n",
              "\n",
              "    [theme=dark] .colab-df-convert:hover {\n",
              "      background-color: #434B5C;\n",
              "      box-shadow: 0px 1px 3px 1px rgba(0, 0, 0, 0.15);\n",
              "      filter: drop-shadow(0px 1px 2px rgba(0, 0, 0, 0.3));\n",
              "      fill: #FFFFFF;\n",
              "    }\n",
              "  </style>\n",
              "\n",
              "      <script>\n",
              "        const buttonEl =\n",
              "          document.querySelector('#df-c2980581-c931-4731-ba0f-539df50a53cc button.colab-df-convert');\n",
              "        buttonEl.style.display =\n",
              "          google.colab.kernel.accessAllowed ? 'block' : 'none';\n",
              "\n",
              "        async function convertToInteractive(key) {\n",
              "          const element = document.querySelector('#df-c2980581-c931-4731-ba0f-539df50a53cc');\n",
              "          const dataTable =\n",
              "            await google.colab.kernel.invokeFunction('convertToInteractive',\n",
              "                                                     [key], {});\n",
              "          if (!dataTable) return;\n",
              "\n",
              "          const docLinkHtml = 'Like what you see? Visit the ' +\n",
              "            '<a target=\"_blank\" href=https://colab.research.google.com/notebooks/data_table.ipynb>data table notebook</a>'\n",
              "            + ' to learn more about interactive tables.';\n",
              "          element.innerHTML = '';\n",
              "          dataTable['output_type'] = 'display_data';\n",
              "          await google.colab.output.renderOutput(dataTable, element);\n",
              "          const docLink = document.createElement('div');\n",
              "          docLink.innerHTML = docLinkHtml;\n",
              "          element.appendChild(docLink);\n",
              "        }\n",
              "      </script>\n",
              "    </div>\n",
              "  </div>\n",
              "  "
            ]
          },
          "metadata": {},
          "execution_count": 93
        }
      ]
    },
    {
      "cell_type": "markdown",
      "source": [
        "Notre dataframe a maintenant une dimension de : "
      ],
      "metadata": {
        "id": "ldz6gUDbEh6-"
      }
    },
    {
      "cell_type": "code",
      "source": [
        "df.shape"
      ],
      "metadata": {
        "colab": {
          "base_uri": "https://localhost:8080/"
        },
        "id": "UMUiI2yy-BJO",
        "outputId": "9265c028-e8d6-4900-c14c-8c1a35a9a046"
      },
      "execution_count": null,
      "outputs": [
        {
          "output_type": "execute_result",
          "data": {
            "text/plain": [
              "(19, 8)"
            ]
          },
          "metadata": {},
          "execution_count": 94
        }
      ]
    },
    {
      "cell_type": "markdown",
      "source": [
        "## 2.3 Cleaning"
      ],
      "metadata": {
        "id": "2jUueGsc8KzY"
      }
    },
    {
      "cell_type": "markdown",
      "source": [
        "Traitons les valeurs manquantes. On rappelle que : "
      ],
      "metadata": {
        "id": "DqwdP_1NElwD"
      }
    },
    {
      "cell_type": "code",
      "source": [
        "df.isna().mean()"
      ],
      "metadata": {
        "colab": {
          "base_uri": "https://localhost:8080/"
        },
        "id": "s7deucZY8Hxe",
        "outputId": "b12452ed-9799-4bc3-9c67-60209f6b6d41"
      },
      "execution_count": null,
      "outputs": [
        {
          "output_type": "execute_result",
          "data": {
            "text/plain": [
              "inscription            0.000000\n",
              "progression            0.000000\n",
              "moyenneDeClasse        0.210526\n",
              "duree                  0.052632\n",
              "difficulte             0.000000\n",
              "nbChapitres            0.000000\n",
              "ratioQuizEvaluation    0.157895\n",
              "nbEvaluations          0.000000\n",
              "dtype: float64"
            ]
          },
          "metadata": {},
          "execution_count": 95
        }
      ]
    },
    {
      "cell_type": "markdown",
      "source": [
        "Nous allons remplacer les valeurs manquantes par la valeur moyenne de chaque colonne. \n",
        "\n",
        "<br>\n",
        "\n",
        "-------------------------------\n",
        "\n",
        "<br>\n",
        "\n",
        "\n",
        "-- **ATTENTION** -- \n",
        "\n",
        "Cela n'est peut-etre pas la méthode la plus **solide** ou la plus **sérieuse**. En effet, le traitement des valeurs manquantes peut être un sujet **sensible** et **délicat**. Cela requiert une attention toute particulière! \n",
        "\n",
        "Dans notre cas, nous pouvons simplement imputer les valeurs manquantes par la moyenne. Cela n'est pas la meilleure chose à faire, mais c'est la plus **rapide**!\n",
        "\n",
        "\n",
        "<br>\n",
        "\n",
        "___________________________________\n",
        "\n",
        "\n",
        "<br>\n"
      ],
      "metadata": {
        "id": "CyNR5nBjEpZ1"
      }
    },
    {
      "cell_type": "code",
      "source": [
        "df = df.fillna(df.mean())\n",
        "df.isna().mean()"
      ],
      "metadata": {
        "colab": {
          "base_uri": "https://localhost:8080/"
        },
        "id": "hAJLqvRv7_ih",
        "outputId": "a5b5dcb9-e3af-4c9d-e5e5-ff7db662944f"
      },
      "execution_count": null,
      "outputs": [
        {
          "output_type": "execute_result",
          "data": {
            "text/plain": [
              "inscription            0.0\n",
              "progression            0.0\n",
              "moyenneDeClasse        0.0\n",
              "duree                  0.0\n",
              "difficulte             0.0\n",
              "nbChapitres            0.0\n",
              "ratioQuizEvaluation    0.0\n",
              "nbEvaluations          0.0\n",
              "dtype: float64"
            ]
          },
          "metadata": {},
          "execution_count": 96
        }
      ]
    },
    {
      "cell_type": "markdown",
      "source": [
        "## 2.4 Data Split"
      ],
      "metadata": {
        "id": "t_vVaCp28OWB"
      }
    },
    {
      "cell_type": "markdown",
      "source": [
        "Nous allons ensuite séparer nos données. D'un coté `X` la matrice des données : "
      ],
      "metadata": {
        "id": "a-uhoEjPE4Wr"
      }
    },
    {
      "cell_type": "code",
      "source": [
        "X = df.values\n",
        "X[:5]"
      ],
      "metadata": {
        "colab": {
          "base_uri": "https://localhost:8080/"
        },
        "id": "6tALxpiX8A8y",
        "outputId": "8cce7fea-f9ff-4fbd-ec3b-990ffb4a7148"
      },
      "execution_count": null,
      "outputs": [
        {
          "output_type": "execute_result",
          "data": {
            "text/plain": [
              "array([[ 29.        ,  34.        ,  89.4       ,  15.        ,\n",
              "          3.        ,  11.        ,   0.66666667,   3.        ],\n",
              "       [ 55.        ,   4.        ,  86.        ,  12.        ,\n",
              "          2.        ,  21.        ,   0.75      ,   4.        ],\n",
              "       [ 60.        , 100.        ,  89.4       ,  15.        ,\n",
              "          1.        ,   1.        ,   0.61755952,   0.        ],\n",
              "       [ 64.        ,  64.        ,  96.        ,  10.        ,\n",
              "          2.        ,   8.        ,   0.        ,   2.        ],\n",
              "       [ 76.        , 100.        ,  91.        ,   6.        ,\n",
              "          1.        ,  12.        ,   1.        ,   3.        ]])"
            ]
          },
          "metadata": {},
          "execution_count": 97
        }
      ]
    },
    {
      "cell_type": "markdown",
      "source": [
        "C'est bien un `np.array` : "
      ],
      "metadata": {
        "id": "-a9HhSt8E_YC"
      }
    },
    {
      "cell_type": "code",
      "source": [
        "type(X)"
      ],
      "metadata": {
        "colab": {
          "base_uri": "https://localhost:8080/"
        },
        "id": "hVX79pBy9hOh",
        "outputId": "a68c00cd-f806-4397-f350-1f783d69357d"
      },
      "execution_count": null,
      "outputs": [
        {
          "output_type": "execute_result",
          "data": {
            "text/plain": [
              "numpy.ndarray"
            ]
          },
          "metadata": {},
          "execution_count": 98
        }
      ]
    },
    {
      "cell_type": "markdown",
      "source": [
        "La forme de cette matrice est conforme à nos attentes : "
      ],
      "metadata": {
        "id": "26AJBPxLFCuh"
      }
    },
    {
      "cell_type": "code",
      "source": [
        "X.shape"
      ],
      "metadata": {
        "colab": {
          "base_uri": "https://localhost:8080/"
        },
        "id": "HGd6IsUG9pj3",
        "outputId": "be0ccbd1-2057-4644-ee07-b231fa9e72ab"
      },
      "execution_count": null,
      "outputs": [
        {
          "output_type": "execute_result",
          "data": {
            "text/plain": [
              "(19, 8)"
            ]
          },
          "metadata": {},
          "execution_count": 99
        }
      ]
    },
    {
      "cell_type": "markdown",
      "source": [
        "Nous enregistrons les noms de nos cours dans une variable `names` : "
      ],
      "metadata": {
        "id": "F_Me-VVu8NSO"
      }
    },
    {
      "cell_type": "code",
      "source": [
        "names = df.index\n",
        "names"
      ],
      "metadata": {
        "colab": {
          "base_uri": "https://localhost:8080/"
        },
        "id": "LOiHwiEE8B69",
        "outputId": "73696b73-46ee-4c2f-a553-5800a59bca63"
      },
      "execution_count": null,
      "outputs": [
        {
          "output_type": "execute_result",
          "data": {
            "text/plain": [
              "Index(['Classez_et_segmentez_des_données_visuelles',\n",
              "       'Initiez-vous_à_la_statistique_inférentielle',\n",
              "       'Maîtrisez_les_bases_des_probabilités',\n",
              "       'Découvrez_les_librairies_Python_pour_la_Data_Science',\n",
              "       'Devenez_mentor_sur_OpenClassrooms',\n",
              "       'Initiez-vous_à_l'algèbre_relationnelle_avec_le_langage_SQL',\n",
              "       'Maintenez-vous_à_jour_en_développement',\n",
              "       'Entraînez_un_modèle_prédictif_linéaire',\n",
              "       'Explorez_vos_données_avec_des_algorithmes_non_supervisés',\n",
              "       'Décrivez_et_nettoyez_votre_jeu_de_données', 'Créez_votre_Data_Lake',\n",
              "       'Développez_une_application_iPhone_avec_le_modèle_MVC',\n",
              "       'Animez_un_atelier_de_créativité',\n",
              "       'Faites_une_base_de_données_avec_UML',\n",
              "       'Apprenez_à_programmer_en_Python',\n",
              "       'Réalisez_des_calculs_distribués_sur_des_données_massives',\n",
              "       'Évaluez_et_améliorez_les_performances_d'un_modèle_de_machine_learning',\n",
              "       'Créez_un_cours_sur_OpenClassrooms',\n",
              "       'Développez_votre_site_web_avec_le_framework_Symfony'],\n",
              "      dtype='object', name='titreCours')"
            ]
          },
          "metadata": {},
          "execution_count": 100
        }
      ]
    },
    {
      "cell_type": "markdown",
      "source": [
        "et nos colonnes, nos features, dans une variable `features` : "
      ],
      "metadata": {
        "id": "xViIE84dFS4M"
      }
    },
    {
      "cell_type": "code",
      "source": [
        "features = df.columns\n",
        "features"
      ],
      "metadata": {
        "colab": {
          "base_uri": "https://localhost:8080/"
        },
        "id": "QgmeiRGr8DCM",
        "outputId": "cd2d1f9c-eba1-48f1-85e6-df1a11203021"
      },
      "execution_count": null,
      "outputs": [
        {
          "output_type": "execute_result",
          "data": {
            "text/plain": [
              "Index(['inscription', 'progression', 'moyenneDeClasse', 'duree', 'difficulte',\n",
              "       'nbChapitres', 'ratioQuizEvaluation', 'nbEvaluations'],\n",
              "      dtype='object')"
            ]
          },
          "metadata": {},
          "execution_count": 101
        }
      ]
    },
    {
      "cell_type": "markdown",
      "source": [
        "# 3 About PCA"
      ],
      "metadata": {
        "id": "5wgpfsxp8RtC"
      }
    },
    {
      "cell_type": "markdown",
      "source": [
        "Nous pouvons - *enfin* - commencer notre ACP, ou notre PCA ! "
      ],
      "metadata": {
        "id": "wFk637ZsFYh_"
      }
    },
    {
      "cell_type": "markdown",
      "source": [
        "## 3.1 Scaling"
      ],
      "metadata": {
        "id": "2sC9qaUN8UN4"
      }
    },
    {
      "cell_type": "markdown",
      "source": [
        "Commençons par scaler les données. On instancie : "
      ],
      "metadata": {
        "id": "hmRqS8eRFdso"
      }
    },
    {
      "cell_type": "code",
      "source": [
        "scaler = StandardScaler()"
      ],
      "metadata": {
        "id": "mlIoi2TX-Ufj"
      },
      "execution_count": null,
      "outputs": []
    },
    {
      "cell_type": "markdown",
      "source": [
        "On fit : "
      ],
      "metadata": {
        "id": "XMRRBJcnFlxC"
      }
    },
    {
      "cell_type": "code",
      "source": [
        "scaler.fit(X)"
      ],
      "metadata": {
        "colab": {
          "base_uri": "https://localhost:8080/"
        },
        "id": "9rbhA6PXFl_D",
        "outputId": "63781830-40fa-4b14-af7f-dc0b3f2494d3"
      },
      "execution_count": null,
      "outputs": [
        {
          "output_type": "execute_result",
          "data": {
            "text/plain": [
              "StandardScaler()"
            ]
          },
          "metadata": {},
          "execution_count": 103
        }
      ]
    },
    {
      "cell_type": "markdown",
      "source": [
        "On transforme : "
      ],
      "metadata": {
        "id": "N5nyQM40Foul"
      }
    },
    {
      "cell_type": "code",
      "source": [
        "X_scaled = scaler.transform(X)\n",
        "X_scaled[:5]"
      ],
      "metadata": {
        "colab": {
          "base_uri": "https://localhost:8080/"
        },
        "id": "FUQz4MQ58Vuf",
        "outputId": "07a7960e-2ff9-4ad8-c77e-5ec5e4636013"
      },
      "execution_count": null,
      "outputs": [
        {
          "output_type": "execute_result",
          "data": {
            "text/plain": [
              "array([[-1.26506467e+00, -2.84313717e-01,  4.14248649e-15,\n",
              "         0.00000000e+00,  1.72618937e+00, -4.69032782e-01,\n",
              "         2.24619768e-01,  3.15283331e-02],\n",
              "       [-1.10576261e+00, -1.13278921e+00, -9.91105344e-01,\n",
              "        -3.07368082e-01,  1.64398987e-01,  6.44920075e-01,\n",
              "         6.05792707e-01,  6.30566661e-01],\n",
              "       [-1.07512761e+00,  1.58233236e+00,  4.14248649e-15,\n",
              "         0.00000000e+00, -1.39739139e+00, -1.58298564e+00,\n",
              "         0.00000000e+00, -1.76558665e+00],\n",
              "       [-1.05061960e+00,  5.64161774e-01,  1.92391037e+00,\n",
              "        -5.12280137e-01,  1.64398987e-01, -8.03218639e-01,\n",
              "        -2.82476374e+00, -5.67509995e-01],\n",
              "       [-9.77095574e-01,  1.58233236e+00,  4.66402515e-01,\n",
              "        -9.22104247e-01, -1.39739139e+00, -3.57637496e-01,\n",
              "         1.74931152e+00,  3.15283331e-02]])"
            ]
          },
          "metadata": {},
          "execution_count": 104
        }
      ]
    },
    {
      "cell_type": "markdown",
      "source": [
        "Rappelons qu'on peut faire les 2 opérations en une seule : "
      ],
      "metadata": {
        "id": "M3REOyTkFtXh"
      }
    },
    {
      "cell_type": "code",
      "source": [
        "X_scaled = scaler.fit_transform(X)"
      ],
      "metadata": {
        "id": "_yNkVwJtFtjN"
      },
      "execution_count": null,
      "outputs": []
    },
    {
      "cell_type": "markdown",
      "source": [
        "On espère avoir une moyenne à 0 et un écart type à 1 : "
      ],
      "metadata": {
        "id": "j8KiQSL9F1q8"
      }
    },
    {
      "cell_type": "code",
      "source": [
        "idx = [\"mean\", \"std\"]\n",
        "\n",
        "pd.DataFrame(X_scaled).describe().round(2).loc[idx, :]"
      ],
      "metadata": {
        "colab": {
          "base_uri": "https://localhost:8080/",
          "height": 176
        },
        "id": "g_OJHK718TvL",
        "outputId": "847f2c88-1b4b-4069-a6c5-88ddeb956692"
      },
      "execution_count": null,
      "outputs": [
        {
          "output_type": "execute_result",
          "data": {
            "text/plain": [
              "         0     1     2     3     4     5     6     7\n",
              "mean -0.00 -0.00  0.00 -0.00  0.00 -0.00  0.00  0.00\n",
              "std   1.03  1.03  1.03  1.03  1.03  1.03  1.03  1.03"
            ],
            "text/html": [
              "\n",
              "  <div id=\"df-9301f769-d7c5-49f0-8e65-ed7dad50ed05\">\n",
              "    <div class=\"colab-df-container\">\n",
              "      <div>\n",
              "<style scoped>\n",
              "    .dataframe tbody tr th:only-of-type {\n",
              "        vertical-align: middle;\n",
              "    }\n",
              "\n",
              "    .dataframe tbody tr th {\n",
              "        vertical-align: top;\n",
              "    }\n",
              "\n",
              "    .dataframe thead th {\n",
              "        text-align: right;\n",
              "    }\n",
              "</style>\n",
              "<table border=\"1\" class=\"dataframe\">\n",
              "  <thead>\n",
              "    <tr style=\"text-align: right;\">\n",
              "      <th></th>\n",
              "      <th>0</th>\n",
              "      <th>1</th>\n",
              "      <th>2</th>\n",
              "      <th>3</th>\n",
              "      <th>4</th>\n",
              "      <th>5</th>\n",
              "      <th>6</th>\n",
              "      <th>7</th>\n",
              "    </tr>\n",
              "  </thead>\n",
              "  <tbody>\n",
              "    <tr>\n",
              "      <th>mean</th>\n",
              "      <td>-0.00</td>\n",
              "      <td>-0.00</td>\n",
              "      <td>0.00</td>\n",
              "      <td>-0.00</td>\n",
              "      <td>0.00</td>\n",
              "      <td>-0.00</td>\n",
              "      <td>0.00</td>\n",
              "      <td>0.00</td>\n",
              "    </tr>\n",
              "    <tr>\n",
              "      <th>std</th>\n",
              "      <td>1.03</td>\n",
              "      <td>1.03</td>\n",
              "      <td>1.03</td>\n",
              "      <td>1.03</td>\n",
              "      <td>1.03</td>\n",
              "      <td>1.03</td>\n",
              "      <td>1.03</td>\n",
              "      <td>1.03</td>\n",
              "    </tr>\n",
              "  </tbody>\n",
              "</table>\n",
              "</div>\n",
              "      <button class=\"colab-df-convert\" onclick=\"convertToInteractive('df-9301f769-d7c5-49f0-8e65-ed7dad50ed05')\"\n",
              "              title=\"Convert this dataframe to an interactive table.\"\n",
              "              style=\"display:none;\">\n",
              "        \n",
              "  <svg xmlns=\"http://www.w3.org/2000/svg\" height=\"24px\"viewBox=\"0 0 24 24\"\n",
              "       width=\"24px\">\n",
              "    <path d=\"M0 0h24v24H0V0z\" fill=\"none\"/>\n",
              "    <path d=\"M18.56 5.44l.94 2.06.94-2.06 2.06-.94-2.06-.94-.94-2.06-.94 2.06-2.06.94zm-11 1L8.5 8.5l.94-2.06 2.06-.94-2.06-.94L8.5 2.5l-.94 2.06-2.06.94zm10 10l.94 2.06.94-2.06 2.06-.94-2.06-.94-.94-2.06-.94 2.06-2.06.94z\"/><path d=\"M17.41 7.96l-1.37-1.37c-.4-.4-.92-.59-1.43-.59-.52 0-1.04.2-1.43.59L10.3 9.45l-7.72 7.72c-.78.78-.78 2.05 0 2.83L4 21.41c.39.39.9.59 1.41.59.51 0 1.02-.2 1.41-.59l7.78-7.78 2.81-2.81c.8-.78.8-2.07 0-2.86zM5.41 20L4 18.59l7.72-7.72 1.47 1.35L5.41 20z\"/>\n",
              "  </svg>\n",
              "      </button>\n",
              "      \n",
              "  <style>\n",
              "    .colab-df-container {\n",
              "      display:flex;\n",
              "      flex-wrap:wrap;\n",
              "      gap: 12px;\n",
              "    }\n",
              "\n",
              "    .colab-df-convert {\n",
              "      background-color: #E8F0FE;\n",
              "      border: none;\n",
              "      border-radius: 50%;\n",
              "      cursor: pointer;\n",
              "      display: none;\n",
              "      fill: #1967D2;\n",
              "      height: 32px;\n",
              "      padding: 0 0 0 0;\n",
              "      width: 32px;\n",
              "    }\n",
              "\n",
              "    .colab-df-convert:hover {\n",
              "      background-color: #E2EBFA;\n",
              "      box-shadow: 0px 1px 2px rgba(60, 64, 67, 0.3), 0px 1px 3px 1px rgba(60, 64, 67, 0.15);\n",
              "      fill: #174EA6;\n",
              "    }\n",
              "\n",
              "    [theme=dark] .colab-df-convert {\n",
              "      background-color: #3B4455;\n",
              "      fill: #D2E3FC;\n",
              "    }\n",
              "\n",
              "    [theme=dark] .colab-df-convert:hover {\n",
              "      background-color: #434B5C;\n",
              "      box-shadow: 0px 1px 3px 1px rgba(0, 0, 0, 0.15);\n",
              "      filter: drop-shadow(0px 1px 2px rgba(0, 0, 0, 0.3));\n",
              "      fill: #FFFFFF;\n",
              "    }\n",
              "  </style>\n",
              "\n",
              "      <script>\n",
              "        const buttonEl =\n",
              "          document.querySelector('#df-9301f769-d7c5-49f0-8e65-ed7dad50ed05 button.colab-df-convert');\n",
              "        buttonEl.style.display =\n",
              "          google.colab.kernel.accessAllowed ? 'block' : 'none';\n",
              "\n",
              "        async function convertToInteractive(key) {\n",
              "          const element = document.querySelector('#df-9301f769-d7c5-49f0-8e65-ed7dad50ed05');\n",
              "          const dataTable =\n",
              "            await google.colab.kernel.invokeFunction('convertToInteractive',\n",
              "                                                     [key], {});\n",
              "          if (!dataTable) return;\n",
              "\n",
              "          const docLinkHtml = 'Like what you see? Visit the ' +\n",
              "            '<a target=\"_blank\" href=https://colab.research.google.com/notebooks/data_table.ipynb>data table notebook</a>'\n",
              "            + ' to learn more about interactive tables.';\n",
              "          element.innerHTML = '';\n",
              "          dataTable['output_type'] = 'display_data';\n",
              "          await google.colab.output.renderOutput(dataTable, element);\n",
              "          const docLink = document.createElement('div');\n",
              "          docLink.innerHTML = docLinkHtml;\n",
              "          element.appendChild(docLink);\n",
              "        }\n",
              "      </script>\n",
              "    </div>\n",
              "  </div>\n",
              "  "
            ]
          },
          "metadata": {},
          "execution_count": 106
        }
      ]
    },
    {
      "cell_type": "markdown",
      "source": [
        "## 3.2 PCA"
      ],
      "metadata": {
        "id": "gmeU74ml8fI4"
      }
    },
    {
      "cell_type": "markdown",
      "source": [
        "Nous allons travailler que sur les 6 premières composantes : "
      ],
      "metadata": {
        "id": "KQTyHvZwGHis"
      }
    },
    {
      "cell_type": "code",
      "source": [
        "n_components = 6"
      ],
      "metadata": {
        "id": "5ils1o5f8X4Q"
      },
      "execution_count": null,
      "outputs": []
    },
    {
      "cell_type": "markdown",
      "source": [
        "On instancie notre ACP : "
      ],
      "metadata": {
        "id": "qcDjEWLZGK86"
      }
    },
    {
      "cell_type": "code",
      "source": [
        "pca = PCA(n_components=n_components)"
      ],
      "metadata": {
        "id": "-5-8Ujeb8ZNr"
      },
      "execution_count": null,
      "outputs": []
    },
    {
      "cell_type": "markdown",
      "source": [
        "On l'entraine sur les données scalées : "
      ],
      "metadata": {
        "id": "mnU1sDZvGOo6"
      }
    },
    {
      "cell_type": "code",
      "source": [
        "pca.fit(X_scaled)"
      ],
      "metadata": {
        "colab": {
          "base_uri": "https://localhost:8080/"
        },
        "id": "DTjhlLiL-l7U",
        "outputId": "c682c601-9672-4c5c-9c3f-3f9c9b5e3ac4"
      },
      "execution_count": null,
      "outputs": [
        {
          "output_type": "execute_result",
          "data": {
            "text/plain": [
              "PCA(n_components=6)"
            ]
          },
          "metadata": {},
          "execution_count": 109
        }
      ]
    },
    {
      "cell_type": "markdown",
      "source": [
        "## 3.3 Explained variance & scree plot"
      ],
      "metadata": {
        "id": "djz1GD-l8hif"
      }
    },
    {
      "cell_type": "markdown",
      "source": [
        "Intéressons nous maintenant à la variance *captée* par chaque nouvelle composante. Grace à `scikit-learn` on peut utiliser l'attribut `explained_variance_ratio_` : "
      ],
      "metadata": {
        "id": "4n5P_EQfGVPn"
      }
    },
    {
      "cell_type": "code",
      "source": [
        "pca.explained_variance_ratio_"
      ],
      "metadata": {
        "colab": {
          "base_uri": "https://localhost:8080/"
        },
        "id": "MfvlVuch-t2J",
        "outputId": "0e2482d7-c485-4836-f27a-e634ed36b8e3"
      },
      "execution_count": null,
      "outputs": [
        {
          "output_type": "execute_result",
          "data": {
            "text/plain": [
              "array([0.4715944 , 0.15651041, 0.13676841, 0.11908719, 0.04148031,\n",
              "       0.03042718])"
            ]
          },
          "metadata": {},
          "execution_count": 110
        }
      ]
    },
    {
      "cell_type": "markdown",
      "source": [
        "Ici la 1ère composante *capte* 44% de la variance de nos données initiales, la 2ème 20% etc etc."
      ],
      "metadata": {
        "id": "P9_KYj-NGioD"
      }
    },
    {
      "cell_type": "markdown",
      "source": [
        "Enregistrons cela dans une variable : "
      ],
      "metadata": {
        "id": "RtN1h3QPGtYe"
      }
    },
    {
      "cell_type": "code",
      "source": [
        "scree = (pca.explained_variance_ratio_*100).round(2)\n",
        "scree"
      ],
      "metadata": {
        "colab": {
          "base_uri": "https://localhost:8080/"
        },
        "id": "FWcHhdOF8i4_",
        "outputId": "e81430e1-4ec7-496a-d160-14e5e26d66ad"
      },
      "execution_count": null,
      "outputs": [
        {
          "output_type": "execute_result",
          "data": {
            "text/plain": [
              "array([47.16, 15.65, 13.68, 11.91,  4.15,  3.04])"
            ]
          },
          "metadata": {},
          "execution_count": 111
        }
      ]
    },
    {
      "cell_type": "markdown",
      "source": [
        "Les 2 premières composantes *captent* donc `44+20 = 66%` de la variance, les 3 premières `44+20+13 = 77%` de la variance etc etc.\n",
        "\n",
        "Dans le jargon, cela s'appelle une *somme cumulée*. Et pour faire une somme cumulée `numpy` dispose de la fonction `cumsum` : "
      ],
      "metadata": {
        "id": "_Ah1nBAFGwht"
      }
    },
    {
      "cell_type": "code",
      "source": [
        "scree_cum = scree.cumsum().round()\n",
        "scree_cum"
      ],
      "metadata": {
        "colab": {
          "base_uri": "https://localhost:8080/"
        },
        "id": "wTNKE3Iu8l7w",
        "outputId": "0e13513c-4e5d-498e-a7ec-4ab32eba3761"
      },
      "execution_count": null,
      "outputs": [
        {
          "output_type": "execute_result",
          "data": {
            "text/plain": [
              "array([47., 63., 76., 88., 93., 96.])"
            ]
          },
          "metadata": {},
          "execution_count": 112
        }
      ]
    },
    {
      "cell_type": "markdown",
      "source": [
        "Définisons ensuite une variable avec la liste de nos composantes : "
      ],
      "metadata": {
        "id": "Azu71-QcHMdg"
      }
    },
    {
      "cell_type": "code",
      "source": [
        "x_list = range(1, n_components+1)\n",
        "list(x_list)"
      ],
      "metadata": {
        "colab": {
          "base_uri": "https://localhost:8080/"
        },
        "id": "ZvVsOwIr_HH-",
        "outputId": "e05a228e-800c-4cb3-e342-74ee4add0dca"
      },
      "execution_count": null,
      "outputs": [
        {
          "output_type": "execute_result",
          "data": {
            "text/plain": [
              "[1, 2, 3, 4, 5, 6]"
            ]
          },
          "metadata": {},
          "execution_count": 113
        }
      ]
    },
    {
      "cell_type": "markdown",
      "source": [
        "On peut enfin l'afficher de façon graphique : "
      ],
      "metadata": {
        "id": "mOrtj3uCHUJh"
      }
    },
    {
      "cell_type": "code",
      "source": [
        "plt.bar(x_list, scree)\n",
        "plt.plot(x_list, scree_cum,c=\"red\",marker='o')\n",
        "plt.xlabel(\"rang de l'axe d'inertie\")\n",
        "plt.ylabel(\"pourcentage d'inertie\")\n",
        "plt.title(\"Eboulis des valeurs propres\")\n",
        "plt.show(block=False)"
      ],
      "metadata": {
        "colab": {
          "base_uri": "https://localhost:8080/",
          "height": 54
        },
        "id": "7tFT1tvS8jVF",
        "outputId": "8bd1912b-d6bd-4844-b8da-a6c6ee8e557f"
      },
      "execution_count": null,
      "outputs": [
        {
          "output_type": "display_data",
          "data": {
            "text/plain": [
              "<Figure size 432x288 with 1 Axes>"
            ],
            "image/png": "[encoded data removed]"
          },
          "metadata": {}
        }
      ]
    },
    {
      "cell_type": "markdown",
      "source": [
        "On a en bleu la variance de chaque nouvelle composante, et en rouge la variance cumulée."
      ],
      "metadata": {
        "id": "Rnv5i4QyYpWk"
      }
    },
    {
      "cell_type": "markdown",
      "source": [
        "On voit ici que près de 80% de la variance est comprise dans les 3 premières composantes, et près de 90% dans les 4 premières. "
      ],
      "metadata": {
        "id": "mwpCEeloHeQO"
      }
    },
    {
      "cell_type": "markdown",
      "source": [
        "## 3.4 Components"
      ],
      "metadata": {
        "id": "URbdIMsj8zWl"
      }
    },
    {
      "cell_type": "markdown",
      "source": [
        "Intéressons nous maintenant à nos fameuses composantes. Nous avons dit dans le cours que c'est bien par un calcul que l'on obtient ces composantes. \n",
        "\n",
        "La formule de ce calcul nous est donnée par l'attribut `components_`. Cette variable est généralement nommée `pcs` : "
      ],
      "metadata": {
        "id": "VsVg2hSwHreN"
      }
    },
    {
      "cell_type": "code",
      "source": [
        "pcs = pca.components_\n",
        "pcs"
      ],
      "metadata": {
        "colab": {
          "base_uri": "https://localhost:8080/"
        },
        "id": "GSxN5_aA81fn",
        "outputId": "df578614-9ccc-4172-e79d-04b7aa3a8511"
      },
      "execution_count": null,
      "outputs": [
        {
          "output_type": "execute_result",
          "data": {
            "text/plain": [
              "array([[ 0.23229081, -0.45303568, -0.08449592,  0.44865413,  0.33114918,\n",
              "         0.4643896 ,  0.08103545,  0.4477559 ],\n",
              "       [ 0.1385512 , -0.09570881,  0.50590131, -0.11946397, -0.56702258,\n",
              "         0.14819996,  0.55994188,  0.21076734],\n",
              "       [-0.2329107 , -0.18131195,  0.74959103,  0.02578145,  0.09797129,\n",
              "         0.00162489, -0.57772613,  0.08341881],\n",
              "       [ 0.84456256,  0.17345083, -0.00374152, -0.00379675, -0.2511345 ,\n",
              "        -0.03195603, -0.43707483,  0.0384231 ],\n",
              "       [-0.1019438 ,  0.10374663,  0.04280049,  0.7043421 , -0.33049795,\n",
              "         0.25476797, -0.03959608, -0.552459  ],\n",
              "       [-0.24178329, -0.28083669, -0.34571373, -0.38205031, -0.44706348,\n",
              "         0.52232025, -0.35266466,  0.01160229]])"
            ]
          },
          "metadata": {},
          "execution_count": 115
        }
      ]
    },
    {
      "cell_type": "markdown",
      "source": [
        "Affichons la même chose mais version `pandas` : "
      ],
      "metadata": {
        "id": "7JbXWzNWIBSK"
      }
    },
    {
      "cell_type": "code",
      "source": [
        "pcs = pd.DataFrame(pcs)\n",
        "pcs"
      ],
      "metadata": {
        "colab": {
          "base_uri": "https://localhost:8080/",
          "height": 302
        },
        "id": "HLYtZl7z_kk5",
        "outputId": "b4656997-6493-4c19-b337-cca7539e6b74"
      },
      "execution_count": null,
      "outputs": [
        {
          "output_type": "execute_result",
          "data": {
            "text/plain": [
              "          0         1         2         3         4         5         6  \\\n",
              "0  0.232291 -0.453036 -0.084496  0.448654  0.331149  0.464390  0.081035   \n",
              "1  0.138551 -0.095709  0.505901 -0.119464 -0.567023  0.148200  0.559942   \n",
              "2 -0.232911 -0.181312  0.749591  0.025781  0.097971  0.001625 -0.577726   \n",
              "3  0.844563  0.173451 -0.003742 -0.003797 -0.251135 -0.031956 -0.437075   \n",
              "4 -0.101944  0.103747  0.042800  0.704342 -0.330498  0.254768 -0.039596   \n",
              "5 -0.241783 -0.280837 -0.345714 -0.382050 -0.447063  0.522320 -0.352665   \n",
              "\n",
              "          7  \n",
              "0  0.447756  \n",
              "1  0.210767  \n",
              "2  0.083419  \n",
              "3  0.038423  \n",
              "4 -0.552459  \n",
              "5  0.011602  "
            ],
            "text/html": [
              "\n",
              "  <div id=\"df-d0dd25fa-2229-4bae-bef7-746c15d66ada\">\n",
              "    <div class=\"colab-df-container\">\n",
              "      <div>\n",
              "<style scoped>\n",
              "    .dataframe tbody tr th:only-of-type {\n",
              "        vertical-align: middle;\n",
              "    }\n",
              "\n",
              "    .dataframe tbody tr th {\n",
              "        vertical-align: top;\n",
              "    }\n",
              "\n",
              "    .dataframe thead th {\n",
              "        text-align: right;\n",
              "    }\n",
              "</style>\n",
              "<table border=\"1\" class=\"dataframe\">\n",
              "  <thead>\n",
              "    <tr style=\"text-align: right;\">\n",
              "      <th></th>\n",
              "      <th>0</th>\n",
              "      <th>1</th>\n",
              "      <th>2</th>\n",
              "      <th>3</th>\n",
              "      <th>4</th>\n",
              "      <th>5</th>\n",
              "      <th>6</th>\n",
              "      <th>7</th>\n",
              "    </tr>\n",
              "  </thead>\n",
              "  <tbody>\n",
              "    <tr>\n",
              "      <th>0</th>\n",
              "      <td>0.232291</td>\n",
              "      <td>-0.453036</td>\n",
              "      <td>-0.084496</td>\n",
              "      <td>0.448654</td>\n",
              "      <td>0.331149</td>\n",
              "      <td>0.464390</td>\n",
              "      <td>0.081035</td>\n",
              "      <td>0.447756</td>\n",
              "    </tr>\n",
              "    <tr>\n",
              "      <th>1</th>\n",
              "      <td>0.138551</td>\n",
              "      <td>-0.095709</td>\n",
              "      <td>0.505901</td>\n",
              "      <td>-0.119464</td>\n",
              "      <td>-0.567023</td>\n",
              "      <td>0.148200</td>\n",
              "      <td>0.559942</td>\n",
              "      <td>0.210767</td>\n",
              "    </tr>\n",
              "    <tr>\n",
              "      <th>2</th>\n",
              "      <td>-0.232911</td>\n",
              "      <td>-0.181312</td>\n",
              "      <td>0.749591</td>\n",
              "      <td>0.025781</td>\n",
              "      <td>0.097971</td>\n",
              "      <td>0.001625</td>\n",
              "      <td>-0.577726</td>\n",
              "      <td>0.083419</td>\n",
              "    </tr>\n",
              "    <tr>\n",
              "      <th>3</th>\n",
              "      <td>0.844563</td>\n",
              "      <td>0.173451</td>\n",
              "      <td>-0.003742</td>\n",
              "      <td>-0.003797</td>\n",
              "      <td>-0.251135</td>\n",
              "      <td>-0.031956</td>\n",
              "      <td>-0.437075</td>\n",
              "      <td>0.038423</td>\n",
              "    </tr>\n",
              "    <tr>\n",
              "      <th>4</th>\n",
              "      <td>-0.101944</td>\n",
              "      <td>0.103747</td>\n",
              "      <td>0.042800</td>\n",
              "      <td>0.704342</td>\n",
              "      <td>-0.330498</td>\n",
              "      <td>0.254768</td>\n",
              "      <td>-0.039596</td>\n",
              "      <td>-0.552459</td>\n",
              "    </tr>\n",
              "    <tr>\n",
              "      <th>5</th>\n",
              "      <td>-0.241783</td>\n",
              "      <td>-0.280837</td>\n",
              "      <td>-0.345714</td>\n",
              "      <td>-0.382050</td>\n",
              "      <td>-0.447063</td>\n",
              "      <td>0.522320</td>\n",
              "      <td>-0.352665</td>\n",
              "      <td>0.011602</td>\n",
              "    </tr>\n",
              "  </tbody>\n",
              "</table>\n",
              "</div>\n",
              "      <button class=\"colab-df-convert\" onclick=\"convertToInteractive('df-d0dd25fa-2229-4bae-bef7-746c15d66ada')\"\n",
              "              title=\"Convert this dataframe to an interactive table.\"\n",
              "              style=\"display:none;\">\n",
              "        \n",
              "  <svg xmlns=\"http://www.w3.org/2000/svg\" height=\"24px\"viewBox=\"0 0 24 24\"\n",
              "       width=\"24px\">\n",
              "    <path d=\"M0 0h24v24H0V0z\" fill=\"none\"/>\n",
              "    <path d=\"M18.56 5.44l.94 2.06.94-2.06 2.06-.94-2.06-.94-.94-2.06-.94 2.06-2.06.94zm-11 1L8.5 8.5l.94-2.06 2.06-.94-2.06-.94L8.5 2.5l-.94 2.06-2.06.94zm10 10l.94 2.06.94-2.06 2.06-.94-2.06-.94-.94-2.06-.94 2.06-2.06.94z\"/><path d=\"M17.41 7.96l-1.37-1.37c-.4-.4-.92-.59-1.43-.59-.52 0-1.04.2-1.43.59L10.3 9.45l-7.72 7.72c-.78.78-.78 2.05 0 2.83L4 21.41c.39.39.9.59 1.41.59.51 0 1.02-.2 1.41-.59l7.78-7.78 2.81-2.81c.8-.78.8-2.07 0-2.86zM5.41 20L4 18.59l7.72-7.72 1.47 1.35L5.41 20z\"/>\n",
              "  </svg>\n",
              "      </button>\n",
              "      \n",
              "  <style>\n",
              "    .colab-df-container {\n",
              "      display:flex;\n",
              "      flex-wrap:wrap;\n",
              "      gap: 12px;\n",
              "    }\n",
              "\n",
              "    .colab-df-convert {\n",
              "      background-color: #E8F0FE;\n",
              "      border: none;\n",
              "      border-radius: 50%;\n",
              "      cursor: pointer;\n",
              "      display: none;\n",
              "      fill: #1967D2;\n",
              "      height: 32px;\n",
              "      padding: 0 0 0 0;\n",
              "      width: 32px;\n",
              "    }\n",
              "\n",
              "    .colab-df-convert:hover {\n",
              "      background-color: #E2EBFA;\n",
              "      box-shadow: 0px 1px 2px rgba(60, 64, 67, 0.3), 0px 1px 3px 1px rgba(60, 64, 67, 0.15);\n",
              "      fill: #174EA6;\n",
              "    }\n",
              "\n",
              "    [theme=dark] .colab-df-convert {\n",
              "      background-color: #3B4455;\n",
              "      fill: #D2E3FC;\n",
              "    }\n",
              "\n",
              "    [theme=dark] .colab-df-convert:hover {\n",
              "      background-color: #434B5C;\n",
              "      box-shadow: 0px 1px 3px 1px rgba(0, 0, 0, 0.15);\n",
              "      filter: drop-shadow(0px 1px 2px rgba(0, 0, 0, 0.3));\n",
              "      fill: #FFFFFF;\n",
              "    }\n",
              "  </style>\n",
              "\n",
              "      <script>\n",
              "        const buttonEl =\n",
              "          document.querySelector('#df-d0dd25fa-2229-4bae-bef7-746c15d66ada button.colab-df-convert');\n",
              "        buttonEl.style.display =\n",
              "          google.colab.kernel.accessAllowed ? 'block' : 'none';\n",
              "\n",
              "        async function convertToInteractive(key) {\n",
              "          const element = document.querySelector('#df-d0dd25fa-2229-4bae-bef7-746c15d66ada');\n",
              "          const dataTable =\n",
              "            await google.colab.kernel.invokeFunction('convertToInteractive',\n",
              "                                                     [key], {});\n",
              "          if (!dataTable) return;\n",
              "\n",
              "          const docLinkHtml = 'Like what you see? Visit the ' +\n",
              "            '<a target=\"_blank\" href=https://colab.research.google.com/notebooks/data_table.ipynb>data table notebook</a>'\n",
              "            + ' to learn more about interactive tables.';\n",
              "          element.innerHTML = '';\n",
              "          dataTable['output_type'] = 'display_data';\n",
              "          await google.colab.output.renderOutput(dataTable, element);\n",
              "          const docLink = document.createElement('div');\n",
              "          docLink.innerHTML = docLinkHtml;\n",
              "          element.appendChild(docLink);\n",
              "        }\n",
              "      </script>\n",
              "    </div>\n",
              "  </div>\n",
              "  "
            ]
          },
          "metadata": {},
          "execution_count": 116
        }
      ]
    },
    {
      "cell_type": "markdown",
      "source": [
        "Intéressant... Mais pas encore très clair...\n",
        "Continuons le travail : "
      ],
      "metadata": {
        "id": "0xd0uKUeIINc"
      }
    },
    {
      "cell_type": "code",
      "source": [
        "pcs.columns = features\n",
        "pcs.index = [f\"F{i}\" for i in x_list]\n",
        "pcs.round(2)"
      ],
      "metadata": {
        "colab": {
          "base_uri": "https://localhost:8080/",
          "height": 302
        },
        "id": "Kja0sm4N_bUm",
        "outputId": "2a2a06f8-c9a2-4cc5-c0b8-193dc90a3482"
      },
      "execution_count": null,
      "outputs": [
        {
          "output_type": "execute_result",
          "data": {
            "text/plain": [
              "    inscription  progression  moyenneDeClasse  duree  difficulte  nbChapitres  \\\n",
              "F1         0.23        -0.45            -0.08   0.45        0.33         0.46   \n",
              "F2         0.14        -0.10             0.51  -0.12       -0.57         0.15   \n",
              "F3        -0.23        -0.18             0.75   0.03        0.10         0.00   \n",
              "F4         0.84         0.17            -0.00  -0.00       -0.25        -0.03   \n",
              "F5        -0.10         0.10             0.04   0.70       -0.33         0.25   \n",
              "F6        -0.24        -0.28            -0.35  -0.38       -0.45         0.52   \n",
              "\n",
              "    ratioQuizEvaluation  nbEvaluations  \n",
              "F1                 0.08           0.45  \n",
              "F2                 0.56           0.21  \n",
              "F3                -0.58           0.08  \n",
              "F4                -0.44           0.04  \n",
              "F5                -0.04          -0.55  \n",
              "F6                -0.35           0.01  "
            ],
            "text/html": [
              "\n",
              "  <div id=\"df-0f5bd9f1-274c-4beb-a042-20e41f9c26ec\">\n",
              "    <div class=\"colab-df-container\">\n",
              "      <div>\n",
              "<style scoped>\n",
              "    .dataframe tbody tr th:only-of-type {\n",
              "        vertical-align: middle;\n",
              "    }\n",
              "\n",
              "    .dataframe tbody tr th {\n",
              "        vertical-align: top;\n",
              "    }\n",
              "\n",
              "    .dataframe thead th {\n",
              "        text-align: right;\n",
              "    }\n",
              "</style>\n",
              "<table border=\"1\" class=\"dataframe\">\n",
              "  <thead>\n",
              "    <tr style=\"text-align: right;\">\n",
              "      <th></th>\n",
              "      <th>inscription</th>\n",
              "      <th>progression</th>\n",
              "      <th>moyenneDeClasse</th>\n",
              "      <th>duree</th>\n",
              "      <th>difficulte</th>\n",
              "      <th>nbChapitres</th>\n",
              "      <th>ratioQuizEvaluation</th>\n",
              "      <th>nbEvaluations</th>\n",
              "    </tr>\n",
              "  </thead>\n",
              "  <tbody>\n",
              "    <tr>\n",
              "      <th>F1</th>\n",
              "      <td>0.23</td>\n",
              "      <td>-0.45</td>\n",
              "      <td>-0.08</td>\n",
              "      <td>0.45</td>\n",
              "      <td>0.33</td>\n",
              "      <td>0.46</td>\n",
              "      <td>0.08</td>\n",
              "      <td>0.45</td>\n",
              "    </tr>\n",
              "    <tr>\n",
              "      <th>F2</th>\n",
              "      <td>0.14</td>\n",
              "      <td>-0.10</td>\n",
              "      <td>0.51</td>\n",
              "      <td>-0.12</td>\n",
              "      <td>-0.57</td>\n",
              "      <td>0.15</td>\n",
              "      <td>0.56</td>\n",
              "      <td>0.21</td>\n",
              "    </tr>\n",
              "    <tr>\n",
              "      <th>F3</th>\n",
              "      <td>-0.23</td>\n",
              "      <td>-0.18</td>\n",
              "      <td>0.75</td>\n",
              "      <td>0.03</td>\n",
              "      <td>0.10</td>\n",
              "      <td>0.00</td>\n",
              "      <td>-0.58</td>\n",
              "      <td>0.08</td>\n",
              "    </tr>\n",
              "    <tr>\n",
              "      <th>F4</th>\n",
              "      <td>0.84</td>\n",
              "      <td>0.17</td>\n",
              "      <td>-0.00</td>\n",
              "      <td>-0.00</td>\n",
              "      <td>-0.25</td>\n",
              "      <td>-0.03</td>\n",
              "      <td>-0.44</td>\n",
              "      <td>0.04</td>\n",
              "    </tr>\n",
              "    <tr>\n",
              "      <th>F5</th>\n",
              "      <td>-0.10</td>\n",
              "      <td>0.10</td>\n",
              "      <td>0.04</td>\n",
              "      <td>0.70</td>\n",
              "      <td>-0.33</td>\n",
              "      <td>0.25</td>\n",
              "      <td>-0.04</td>\n",
              "      <td>-0.55</td>\n",
              "    </tr>\n",
              "    <tr>\n",
              "      <th>F6</th>\n",
              "      <td>-0.24</td>\n",
              "      <td>-0.28</td>\n",
              "      <td>-0.35</td>\n",
              "      <td>-0.38</td>\n",
              "      <td>-0.45</td>\n",
              "      <td>0.52</td>\n",
              "      <td>-0.35</td>\n",
              "      <td>0.01</td>\n",
              "    </tr>\n",
              "  </tbody>\n",
              "</table>\n",
              "</div>\n",
              "      <button class=\"colab-df-convert\" onclick=\"convertToInteractive('df-0f5bd9f1-274c-4beb-a042-20e41f9c26ec')\"\n",
              "              title=\"Convert this dataframe to an interactive table.\"\n",
              "              style=\"display:none;\">\n",
              "        \n",
              "  <svg xmlns=\"http://www.w3.org/2000/svg\" height=\"24px\"viewBox=\"0 0 24 24\"\n",
              "       width=\"24px\">\n",
              "    <path d=\"M0 0h24v24H0V0z\" fill=\"none\"/>\n",
              "    <path d=\"M18.56 5.44l.94 2.06.94-2.06 2.06-.94-2.06-.94-.94-2.06-.94 2.06-2.06.94zm-11 1L8.5 8.5l.94-2.06 2.06-.94-2.06-.94L8.5 2.5l-.94 2.06-2.06.94zm10 10l.94 2.06.94-2.06 2.06-.94-2.06-.94-.94-2.06-.94 2.06-2.06.94z\"/><path d=\"M17.41 7.96l-1.37-1.37c-.4-.4-.92-.59-1.43-.59-.52 0-1.04.2-1.43.59L10.3 9.45l-7.72 7.72c-.78.78-.78 2.05 0 2.83L4 21.41c.39.39.9.59 1.41.59.51 0 1.02-.2 1.41-.59l7.78-7.78 2.81-2.81c.8-.78.8-2.07 0-2.86zM5.41 20L4 18.59l7.72-7.72 1.47 1.35L5.41 20z\"/>\n",
              "  </svg>\n",
              "      </button>\n",
              "      \n",
              "  <style>\n",
              "    .colab-df-container {\n",
              "      display:flex;\n",
              "      flex-wrap:wrap;\n",
              "      gap: 12px;\n",
              "    }\n",
              "\n",
              "    .colab-df-convert {\n",
              "      background-color: #E8F0FE;\n",
              "      border: none;\n",
              "      border-radius: 50%;\n",
              "      cursor: pointer;\n",
              "      display: none;\n",
              "      fill: #1967D2;\n",
              "      height: 32px;\n",
              "      padding: 0 0 0 0;\n",
              "      width: 32px;\n",
              "    }\n",
              "\n",
              "    .colab-df-convert:hover {\n",
              "      background-color: #E2EBFA;\n",
              "      box-shadow: 0px 1px 2px rgba(60, 64, 67, 0.3), 0px 1px 3px 1px rgba(60, 64, 67, 0.15);\n",
              "      fill: #174EA6;\n",
              "    }\n",
              "\n",
              "    [theme=dark] .colab-df-convert {\n",
              "      background-color: #3B4455;\n",
              "      fill: #D2E3FC;\n",
              "    }\n",
              "\n",
              "    [theme=dark] .colab-df-convert:hover {\n",
              "      background-color: #434B5C;\n",
              "      box-shadow: 0px 1px 3px 1px rgba(0, 0, 0, 0.15);\n",
              "      filter: drop-shadow(0px 1px 2px rgba(0, 0, 0, 0.3));\n",
              "      fill: #FFFFFF;\n",
              "    }\n",
              "  </style>\n",
              "\n",
              "      <script>\n",
              "        const buttonEl =\n",
              "          document.querySelector('#df-0f5bd9f1-274c-4beb-a042-20e41f9c26ec button.colab-df-convert');\n",
              "        buttonEl.style.display =\n",
              "          google.colab.kernel.accessAllowed ? 'block' : 'none';\n",
              "\n",
              "        async function convertToInteractive(key) {\n",
              "          const element = document.querySelector('#df-0f5bd9f1-274c-4beb-a042-20e41f9c26ec');\n",
              "          const dataTable =\n",
              "            await google.colab.kernel.invokeFunction('convertToInteractive',\n",
              "                                                     [key], {});\n",
              "          if (!dataTable) return;\n",
              "\n",
              "          const docLinkHtml = 'Like what you see? Visit the ' +\n",
              "            '<a target=\"_blank\" href=https://colab.research.google.com/notebooks/data_table.ipynb>data table notebook</a>'\n",
              "            + ' to learn more about interactive tables.';\n",
              "          element.innerHTML = '';\n",
              "          dataTable['output_type'] = 'display_data';\n",
              "          await google.colab.output.renderOutput(dataTable, element);\n",
              "          const docLink = document.createElement('div');\n",
              "          docLink.innerHTML = docLinkHtml;\n",
              "          element.appendChild(docLink);\n",
              "        }\n",
              "      </script>\n",
              "    </div>\n",
              "  </div>\n",
              "  "
            ]
          },
          "metadata": {},
          "execution_count": 117
        }
      ]
    },
    {
      "cell_type": "markdown",
      "source": [
        "De mieux en mieux !  \n",
        "\n",
        "-- **ATTENTION** -- : Nous avons arrondi les résultats pour simplifier l'analyse :) "
      ],
      "metadata": {
        "id": "vLefXSAjIO6B"
      }
    },
    {
      "cell_type": "markdown",
      "source": [
        "<br>\n",
        "\n",
        "-------------------------\n",
        "\n",
        "<br>\n",
        "\n",
        "Alors, comment calcule t-on la première composante `F1` ? \n",
        "\n",
        "et bien c'est assez simple :\n",
        "\n",
        "`F1 = (0.23 * inscription) + (-0.45 * progression) + ... + (0.45 * nbEvaluations)`\n",
        "\n",
        "et F2 ?\n",
        "\n",
        "`F2 = (0.14 * inscription) + (-0.10 * progression) + ... + (0.21 * nbEvaluations)`\n",
        "\n",
        "**Eureka !**\n",
        "\n",
        "<br> \n",
        "\n",
        "------------------------\n",
        "\n",
        "<br>\n"
      ],
      "metadata": {
        "id": "q2cmDfhfKJJA"
      }
    },
    {
      "cell_type": "markdown",
      "source": [
        "\n",
        "Dans certains cas, on voudra afficher ce dataframe comme cela : "
      ],
      "metadata": {
        "id": "tRTwCH7TKKni"
      }
    },
    {
      "cell_type": "code",
      "source": [
        "pcs.T"
      ],
      "metadata": {
        "colab": {
          "base_uri": "https://localhost:8080/",
          "height": 364
        },
        "id": "yyavxCt8_-V8",
        "outputId": "d380006e-ca83-44ce-ed9b-ccfa61b38b88"
      },
      "execution_count": null,
      "outputs": [
        {
          "output_type": "execute_result",
          "data": {
            "text/plain": [
              "                           F1        F2        F3        F4        F5  \\\n",
              "inscription          0.232291  0.138551 -0.232911  0.844563 -0.101944   \n",
              "progression         -0.453036 -0.095709 -0.181312  0.173451  0.103747   \n",
              "moyenneDeClasse     -0.084496  0.505901  0.749591 -0.003742  0.042800   \n",
              "duree                0.448654 -0.119464  0.025781 -0.003797  0.704342   \n",
              "difficulte           0.331149 -0.567023  0.097971 -0.251135 -0.330498   \n",
              "nbChapitres          0.464390  0.148200  0.001625 -0.031956  0.254768   \n",
              "ratioQuizEvaluation  0.081035  0.559942 -0.577726 -0.437075 -0.039596   \n",
              "nbEvaluations        0.447756  0.210767  0.083419  0.038423 -0.552459   \n",
              "\n",
              "                           F6  \n",
              "inscription         -0.241783  \n",
              "progression         -0.280837  \n",
              "moyenneDeClasse     -0.345714  \n",
              "duree               -0.382050  \n",
              "difficulte          -0.447063  \n",
              "nbChapitres          0.522320  \n",
              "ratioQuizEvaluation -0.352665  \n",
              "nbEvaluations        0.011602  "
            ],
            "text/html": [
              "\n",
              "  <div id=\"df-70eb40a4-ae29-4d0b-a79f-ce32cae49edb\">\n",
              "    <div class=\"colab-df-container\">\n",
              "      <div>\n",
              "<style scoped>\n",
              "    .dataframe tbody tr th:only-of-type {\n",
              "        vertical-align: middle;\n",
              "    }\n",
              "\n",
              "    .dataframe tbody tr th {\n",
              "        vertical-align: top;\n",
              "    }\n",
              "\n",
              "    .dataframe thead th {\n",
              "        text-align: right;\n",
              "    }\n",
              "</style>\n",
              "<table border=\"1\" class=\"dataframe\">\n",
              "  <thead>\n",
              "    <tr style=\"text-align: right;\">\n",
              "      <th></th>\n",
              "      <th>F1</th>\n",
              "      <th>F2</th>\n",
              "      <th>F3</th>\n",
              "      <th>F4</th>\n",
              "      <th>F5</th>\n",
              "      <th>F6</th>\n",
              "    </tr>\n",
              "  </thead>\n",
              "  <tbody>\n",
              "    <tr>\n",
              "      <th>inscription</th>\n",
              "      <td>0.232291</td>\n",
              "      <td>0.138551</td>\n",
              "      <td>-0.232911</td>\n",
              "      <td>0.844563</td>\n",
              "      <td>-0.101944</td>\n",
              "      <td>-0.241783</td>\n",
              "    </tr>\n",
              "    <tr>\n",
              "      <th>progression</th>\n",
              "      <td>-0.453036</td>\n",
              "      <td>-0.095709</td>\n",
              "      <td>-0.181312</td>\n",
              "      <td>0.173451</td>\n",
              "      <td>0.103747</td>\n",
              "      <td>-0.280837</td>\n",
              "    </tr>\n",
              "    <tr>\n",
              "      <th>moyenneDeClasse</th>\n",
              "      <td>-0.084496</td>\n",
              "      <td>0.505901</td>\n",
              "      <td>0.749591</td>\n",
              "      <td>-0.003742</td>\n",
              "      <td>0.042800</td>\n",
              "      <td>-0.345714</td>\n",
              "    </tr>\n",
              "    <tr>\n",
              "      <th>duree</th>\n",
              "      <td>0.448654</td>\n",
              "      <td>-0.119464</td>\n",
              "      <td>0.025781</td>\n",
              "      <td>-0.003797</td>\n",
              "      <td>0.704342</td>\n",
              "      <td>-0.382050</td>\n",
              "    </tr>\n",
              "    <tr>\n",
              "      <th>difficulte</th>\n",
              "      <td>0.331149</td>\n",
              "      <td>-0.567023</td>\n",
              "      <td>0.097971</td>\n",
              "      <td>-0.251135</td>\n",
              "      <td>-0.330498</td>\n",
              "      <td>-0.447063</td>\n",
              "    </tr>\n",
              "    <tr>\n",
              "      <th>nbChapitres</th>\n",
              "      <td>0.464390</td>\n",
              "      <td>0.148200</td>\n",
              "      <td>0.001625</td>\n",
              "      <td>-0.031956</td>\n",
              "      <td>0.254768</td>\n",
              "      <td>0.522320</td>\n",
              "    </tr>\n",
              "    <tr>\n",
              "      <th>ratioQuizEvaluation</th>\n",
              "      <td>0.081035</td>\n",
              "      <td>0.559942</td>\n",
              "      <td>-0.577726</td>\n",
              "      <td>-0.437075</td>\n",
              "      <td>-0.039596</td>\n",
              "      <td>-0.352665</td>\n",
              "    </tr>\n",
              "    <tr>\n",
              "      <th>nbEvaluations</th>\n",
              "      <td>0.447756</td>\n",
              "      <td>0.210767</td>\n",
              "      <td>0.083419</td>\n",
              "      <td>0.038423</td>\n",
              "      <td>-0.552459</td>\n",
              "      <td>0.011602</td>\n",
              "    </tr>\n",
              "  </tbody>\n",
              "</table>\n",
              "</div>\n",
              "      <button class=\"colab-df-convert\" onclick=\"convertToInteractive('df-70eb40a4-ae29-4d0b-a79f-ce32cae49edb')\"\n",
              "              title=\"Convert this dataframe to an interactive table.\"\n",
              "              style=\"display:none;\">\n",
              "        \n",
              "  <svg xmlns=\"http://www.w3.org/2000/svg\" height=\"24px\"viewBox=\"0 0 24 24\"\n",
              "       width=\"24px\">\n",
              "    <path d=\"M0 0h24v24H0V0z\" fill=\"none\"/>\n",
              "    <path d=\"M18.56 5.44l.94 2.06.94-2.06 2.06-.94-2.06-.94-.94-2.06-.94 2.06-2.06.94zm-11 1L8.5 8.5l.94-2.06 2.06-.94-2.06-.94L8.5 2.5l-.94 2.06-2.06.94zm10 10l.94 2.06.94-2.06 2.06-.94-2.06-.94-.94-2.06-.94 2.06-2.06.94z\"/><path d=\"M17.41 7.96l-1.37-1.37c-.4-.4-.92-.59-1.43-.59-.52 0-1.04.2-1.43.59L10.3 9.45l-7.72 7.72c-.78.78-.78 2.05 0 2.83L4 21.41c.39.39.9.59 1.41.59.51 0 1.02-.2 1.41-.59l7.78-7.78 2.81-2.81c.8-.78.8-2.07 0-2.86zM5.41 20L4 18.59l7.72-7.72 1.47 1.35L5.41 20z\"/>\n",
              "  </svg>\n",
              "      </button>\n",
              "      \n",
              "  <style>\n",
              "    .colab-df-container {\n",
              "      display:flex;\n",
              "      flex-wrap:wrap;\n",
              "      gap: 12px;\n",
              "    }\n",
              "\n",
              "    .colab-df-convert {\n",
              "      background-color: #E8F0FE;\n",
              "      border: none;\n",
              "      border-radius: 50%;\n",
              "      cursor: pointer;\n",
              "      display: none;\n",
              "      fill: #1967D2;\n",
              "      height: 32px;\n",
              "      padding: 0 0 0 0;\n",
              "      width: 32px;\n",
              "    }\n",
              "\n",
              "    .colab-df-convert:hover {\n",
              "      background-color: #E2EBFA;\n",
              "      box-shadow: 0px 1px 2px rgba(60, 64, 67, 0.3), 0px 1px 3px 1px rgba(60, 64, 67, 0.15);\n",
              "      fill: #174EA6;\n",
              "    }\n",
              "\n",
              "    [theme=dark] .colab-df-convert {\n",
              "      background-color: #3B4455;\n",
              "      fill: #D2E3FC;\n",
              "    }\n",
              "\n",
              "    [theme=dark] .colab-df-convert:hover {\n",
              "      background-color: #434B5C;\n",
              "      box-shadow: 0px 1px 3px 1px rgba(0, 0, 0, 0.15);\n",
              "      filter: drop-shadow(0px 1px 2px rgba(0, 0, 0, 0.3));\n",
              "      fill: #FFFFFF;\n",
              "    }\n",
              "  </style>\n",
              "\n",
              "      <script>\n",
              "        const buttonEl =\n",
              "          document.querySelector('#df-70eb40a4-ae29-4d0b-a79f-ce32cae49edb button.colab-df-convert');\n",
              "        buttonEl.style.display =\n",
              "          google.colab.kernel.accessAllowed ? 'block' : 'none';\n",
              "\n",
              "        async function convertToInteractive(key) {\n",
              "          const element = document.querySelector('#df-70eb40a4-ae29-4d0b-a79f-ce32cae49edb');\n",
              "          const dataTable =\n",
              "            await google.colab.kernel.invokeFunction('convertToInteractive',\n",
              "                                                     [key], {});\n",
              "          if (!dataTable) return;\n",
              "\n",
              "          const docLinkHtml = 'Like what you see? Visit the ' +\n",
              "            '<a target=\"_blank\" href=https://colab.research.google.com/notebooks/data_table.ipynb>data table notebook</a>'\n",
              "            + ' to learn more about interactive tables.';\n",
              "          element.innerHTML = '';\n",
              "          dataTable['output_type'] = 'display_data';\n",
              "          await google.colab.output.renderOutput(dataTable, element);\n",
              "          const docLink = document.createElement('div');\n",
              "          docLink.innerHTML = docLinkHtml;\n",
              "          element.appendChild(docLink);\n",
              "        }\n",
              "      </script>\n",
              "    </div>\n",
              "  </div>\n",
              "  "
            ]
          },
          "metadata": {},
          "execution_count": 118
        }
      ]
    },
    {
      "cell_type": "markdown",
      "source": [
        "Et pour une représentation plus *visuelle*, comme cela : "
      ],
      "metadata": {
        "id": "_qUlQTnwJh1Y"
      }
    },
    {
      "cell_type": "code",
      "source": [
        "fig, ax = plt.subplots(figsize=(20, 6))\n",
        "sns.heatmap(pcs.T, vmin=-1, vmax=1, annot=True, cmap=\"coolwarm\", fmt=\"0.2f\")"
      ],
      "metadata": {
        "colab": {
          "base_uri": "https://localhost:8080/",
          "height": 106
        },
        "id": "P2l7uuOWAA18",
        "outputId": "8d577200-f44c-495a-c9f6-780fc2cb73c1"
      },
      "execution_count": null,
      "outputs": [
        {
          "output_type": "execute_result",
          "data": {
            "text/plain": [
              "<matplotlib.axes._subplots.AxesSubplot at 0x7ff4dc7a3be0>"
            ]
          },
          "metadata": {},
          "execution_count": 119
        },
        {
          "output_type": "display_data",
          "data": {
            "text/plain": [
              "<Figure size 1440x432 with 2 Axes>"
            ],
            "image/png": "[encoded data removed]"
          },
          "metadata": {}
        }
      ]
    },
    {
      "cell_type": "markdown",
      "source": [
        "## 3.5 Correlation graph"
      ],
      "metadata": {
        "id": "DzhDQbYpApUZ"
      }
    },
    {
      "cell_type": "markdown",
      "source": [
        "Bon, pour le graphe des corrélations, on va tricher un peu... \n",
        "\n",
        "Je vais vous donner du code clé en main. Charge à vous de le comprendre ou de le copier sans vergogne :) \n",
        "\n",
        "\n",
        "Même si vous ne comprenez pas tout, essayez de lire au moins une fois le code, à la volée. On ne sait jamais...\n",
        "\n",
        "<br>\n",
        "\n",
        "_______________________________\n",
        "\n",
        "<br>\n"
      ],
      "metadata": {
        "id": "RLQf6BFVU980"
      }
    },
    {
      "cell_type": "markdown",
      "source": [
        "Définissons nos axes x et y. Nous allons utiliser les 2 premières composantes. Comme - en code - on commence à compter à partir de 0, cela nous donne : "
      ],
      "metadata": {
        "id": "y6DT05G_VNFg"
      }
    },
    {
      "cell_type": "code",
      "source": [
        "x, y = 0,1"
      ],
      "metadata": {
        "id": "R0G29uPXWJk2"
      },
      "execution_count": null,
      "outputs": []
    },
    {
      "cell_type": "markdown",
      "source": [
        "Pour la partie graphique : "
      ],
      "metadata": {
        "id": "D3T2UCMFZqgH"
      }
    },
    {
      "cell_type": "code",
      "source": [
        "fig, ax = plt.subplots(figsize=(10, 9))\n",
        "for i in range(0, pca.components_.shape[1]):\n",
        "    ax.arrow(0,\n",
        "             0,  # Start the arrow at the origin\n",
        "             pca.components_[0, i],  #0 for PC1\n",
        "             pca.components_[1, i],  #1 for PC2\n",
        "             head_width=0.07,\n",
        "             head_length=0.07, \n",
        "             width=0.02,              )\n",
        "\n",
        "    plt.text(pca.components_[0, i] + 0.05,\n",
        "             pca.components_[1, i] + 0.05,\n",
        "             features[i])\n",
        "    \n",
        "# affichage des lignes horizontales et verticales\n",
        "plt.plot([-1, 1], [0, 0], color='grey', ls='--')\n",
        "plt.plot([0, 0], [-1, 1], color='grey', ls='--')\n",
        "\n",
        "\n",
        "# nom des axes, avec le pourcentage d'inertie expliqué\n",
        "plt.xlabel('F{} ({}%)'.format(x+1, round(100*pca.explained_variance_ratio_[x],1)))\n",
        "plt.ylabel('F{} ({}%)'.format(y+1, round(100*pca.explained_variance_ratio_[y],1)))\n",
        "\n",
        "plt.title(\"Cercle des corrélations (F{} et F{})\".format(x+1, y+1))\n",
        "\n",
        "\n",
        "an = np.linspace(0, 2 * np.pi, 100)\n",
        "plt.plot(np.cos(an), np.sin(an))  # Add a unit circle for scale\n",
        "plt.axis('equal')\n",
        "plt.show(block=False)"
      ],
      "metadata": {
        "colab": {
          "base_uri": "https://localhost:8080/",
          "height": 573
        },
        "id": "9TG99HfDUjG_",
        "outputId": "78b9d5fb-0895-4381-a187-998b608a8960"
      },
      "execution_count": null,
      "outputs": [
        {
          "output_type": "display_data",
          "data": {
            "text/plain": [
              "<Figure size 720x648 with 1 Axes>"
            ],
            "image/png": "[encoded data removed]"
          },
          "metadata": {}
        }
      ]
    },
    {
      "cell_type": "markdown",
      "source": [
        "On peut en faire une fonction : "
      ],
      "metadata": {
        "id": "DnweYMGpZtl8"
      }
    },
    {
      "cell_type": "code",
      "source": [
        "def correlation_graph(pca, \n",
        "                      x_y, \n",
        "                      features) : \n",
        "    \"\"\"Affiche le graphe des correlations\n",
        "\n",
        "    Positional arguments : \n",
        "    -----------------------------------\n",
        "    pca : sklearn.decomposition.PCA : notre objet PCA qui a été fit\n",
        "    x_y : list ou tuple : le couple x,y des plans à afficher, exemple [0,1] pour F1, F2\n",
        "    features : list ou tuple : la liste des features (ie des dimensions) à représenter\n",
        "    \"\"\"\n",
        "\n",
        "    # Extrait x et y \n",
        "    x,y=x_y\n",
        "\n",
        "    # Taille de l'image (en inches)\n",
        "    fig, ax = plt.subplots(figsize=(10, 9))\n",
        "\n",
        "    # Pour chaque composante : \n",
        "    for i in range(0, pca.components_.shape[1]):\n",
        "\n",
        "        # Les flèches\n",
        "        ax.arrow(0,0, \n",
        "                pca.components_[x, i],  \n",
        "                pca.components_[y, i],  \n",
        "                head_width=0.07,\n",
        "                head_length=0.07, \n",
        "                width=0.02, )\n",
        "\n",
        "        # Les labels\n",
        "        plt.text(pca.components_[x, i] + 0.05,\n",
        "                pca.components_[y, i] + 0.05,\n",
        "                features[i])\n",
        "        \n",
        "    # Affichage des lignes horizontales et verticales\n",
        "    plt.plot([-1, 1], [0, 0], color='grey', ls='--')\n",
        "    plt.plot([0, 0], [-1, 1], color='grey', ls='--')\n",
        "\n",
        "    # Nom des axes, avec le pourcentage d'inertie expliqué\n",
        "    plt.xlabel('F{} ({}%)'.format(x+1, round(100*pca.explained_variance_ratio_[x],1)))\n",
        "    plt.ylabel('F{} ({}%)'.format(y+1, round(100*pca.explained_variance_ratio_[y],1)))\n",
        "\n",
        "    # J'ai copié collé le code sans le lire\n",
        "    plt.title(\"Cercle des corrélations (F{} et F{})\".format(x+1, y+1))\n",
        "\n",
        "    # Le cercle \n",
        "    an = np.linspace(0, 2 * np.pi, 100)\n",
        "    plt.plot(np.cos(an), np.sin(an))  # Add a unit circle for scale\n",
        "\n",
        "    # Axes et display\n",
        "    plt.axis('equal')\n",
        "    plt.show(block=False)"
      ],
      "metadata": {
        "id": "k0l5bFL4Vrjm"
      },
      "execution_count": null,
      "outputs": []
    },
    {
      "cell_type": "markdown",
      "source": [
        "Essayons cette fonction pour F1 et F2 \n",
        "\n",
        "-- **ATTENTION** -- Encore une fois Pour F1 et F2 il faut bien préciser  0 et 1  😀"
      ],
      "metadata": {
        "id": "cxHs_qzrZxZY"
      }
    },
    {
      "cell_type": "code",
      "source": [
        "x_y = (0,1)\n",
        "x_y"
      ],
      "metadata": {
        "colab": {
          "base_uri": "https://localhost:8080/"
        },
        "id": "CdnKBZ9pHZcZ",
        "outputId": "b3318937-037e-410b-d461-dc49e7dfe640"
      },
      "execution_count": null,
      "outputs": [
        {
          "output_type": "execute_result",
          "data": {
            "text/plain": [
              "(0, 1)"
            ]
          },
          "metadata": {},
          "execution_count": 123
        }
      ]
    },
    {
      "cell_type": "code",
      "source": [
        "correlation_graph(pca, x_y, features)"
      ],
      "metadata": {
        "colab": {
          "base_uri": "https://localhost:8080/",
          "height": 573
        },
        "id": "9yv43xrZXjJu",
        "outputId": "6cb0d604-f1b1-450a-d134-81e85ebd1ada"
      },
      "execution_count": null,
      "outputs": [
        {
          "output_type": "display_data",
          "data": {
            "text/plain": [
              "<Figure size 720x648 with 1 Axes>"
            ],
            "image/png": "[encoded data removed]"
          },
          "metadata": {}
        }
      ]
    },
    {
      "cell_type": "markdown",
      "source": [
        "Essayons pour F3 et F4 : "
      ],
      "metadata": {
        "id": "pwAn-ZA_ag8S"
      }
    },
    {
      "cell_type": "code",
      "source": [
        "correlation_graph(pca, (2,3), features)"
      ],
      "metadata": {
        "colab": {
          "base_uri": "https://localhost:8080/",
          "height": 573
        },
        "id": "LDQkg3zgZmjz",
        "outputId": "595a7958-5167-46f9-ca61-55b2b76a89c9"
      },
      "execution_count": null,
      "outputs": [
        {
          "output_type": "display_data",
          "data": {
            "text/plain": [
              "<Figure size 720x648 with 1 Axes>"
            ],
            "image/png": "[encoded data removed]"
          },
          "metadata": {}
        }
      ]
    },
    {
      "cell_type": "markdown",
      "source": [
        "## 3.6 Projection"
      ],
      "metadata": {
        "id": "8Tp0xPNnZyUC"
      }
    },
    {
      "cell_type": "markdown",
      "source": [
        "Travaillons maintenant sur la projection de nos dimensions. Tout d'abord calculons les coordonnées de nos individus dans le nouvel espace : "
      ],
      "metadata": {
        "id": "fSN-ysrUapCJ"
      }
    },
    {
      "cell_type": "code",
      "source": [
        "X_proj = pca.transform(X_scaled)\n",
        "X_proj[:5]"
      ],
      "metadata": {
        "colab": {
          "base_uri": "https://localhost:8080/"
        },
        "id": "XTefDhHfBOS4",
        "outputId": "e77f3ca6-36ee-44a6-e2c5-e3a48ac2349f"
      },
      "execution_count": null,
      "outputs": [
        {
          "output_type": "execute_result",
          "data": {
            "text/plain": [
              "array([[ 0.22107277, -1.06394473,  0.3874128 , -1.63322222, -0.61683984,\n",
              "        -0.70983399],\n",
              "       [ 0.88754323, -0.03499815, -0.56814276, -1.42793746, -0.52608729,\n",
              "         1.10258485],\n",
              "       [-2.95501419, -0.11477732, -0.3232466 , -0.29987584,  1.30771945,\n",
              "        -0.40701673],\n",
              "       [-1.69361161, -1.07862307,  3.17074995,  0.40249607,  0.05356553,\n",
              "         0.12275527],\n",
              "       [-1.86989322,  1.7847995 , -0.87896007, -0.9500123 , -0.08170767,\n",
              "        -0.19571633]])"
            ]
          },
          "metadata": {},
          "execution_count": 126
        }
      ]
    },
    {
      "cell_type": "markdown",
      "source": [
        "Rappelons que : "
      ],
      "metadata": {
        "id": "BpF1_3jjHj_O"
      }
    },
    {
      "cell_type": "code",
      "source": [
        "x_y"
      ],
      "metadata": {
        "colab": {
          "base_uri": "https://localhost:8080/"
        },
        "id": "YV6wSluwawMU",
        "outputId": "8396e268-ab89-4228-c112-be028935280b"
      },
      "execution_count": null,
      "outputs": [
        {
          "output_type": "execute_result",
          "data": {
            "text/plain": [
              "(0, 1)"
            ]
          },
          "metadata": {},
          "execution_count": 127
        }
      ]
    },
    {
      "cell_type": "markdown",
      "source": [
        "Accrochez vous, car voici la fonction. \n",
        "\n",
        "\n",
        "Pour info, sachez que nous reviendrons dessus lors du TP de la 3e partie. Pas besoin de trop rentrer dans le détail pour l'instant, mais lisez la quand même le code, au moins une fois, en diagonale..."
      ],
      "metadata": {
        "id": "RG3AZxxYa6AJ"
      }
    },
    {
      "cell_type": "code",
      "source": [
        "def display_factorial_planes(   X_projected, \n",
        "                                x_y, \n",
        "                                pca=None, \n",
        "                                labels = None,\n",
        "                                clusters=None, \n",
        "                                alpha=1,\n",
        "                                figsize=[10,8], \n",
        "                                marker=\".\" ):\n",
        "    \"\"\"\n",
        "    Affiche la projection des individus\n",
        "\n",
        "    Positional arguments : \n",
        "    -------------------------------------\n",
        "    X_projected : np.array, pd.DataFrame, list of list : la matrice des points projetés\n",
        "    x_y : list ou tuple : le couple x,y des plans à afficher, exemple [0,1] pour F1, F2\n",
        "\n",
        "    Optional arguments : \n",
        "    -------------------------------------\n",
        "    pca : sklearn.decomposition.PCA : un objet PCA qui a été fit, cela nous permettra d'afficher la variance de chaque composante, default = None\n",
        "    labels : list ou tuple : les labels des individus à projeter, default = None\n",
        "    clusters : list ou tuple : la liste des clusters auquel appartient chaque individu, default = None\n",
        "    alpha : float in [0,1] : paramètre de transparence, 0=100% transparent, 1=0% transparent, default = 1\n",
        "    figsize : list ou tuple : couple width, height qui définit la taille de la figure en inches, default = [10,8] \n",
        "    marker : str : le type de marker utilisé pour représenter les individus, points croix etc etc, default = \".\"\n",
        "    \"\"\"\n",
        "\n",
        "    # Transforme X_projected en np.array\n",
        "    X_ = np.array(X_projected)\n",
        "\n",
        "    # On définit la forme de la figure si elle n'a pas été donnée\n",
        "    if not figsize: \n",
        "        figsize = (7,6)\n",
        "\n",
        "    # On gère les labels\n",
        "    if  labels is None : \n",
        "        labels = []\n",
        "    try : \n",
        "        len(labels)\n",
        "    except Exception as e : \n",
        "        raise e\n",
        "\n",
        "    # On vérifie la variable axis \n",
        "    if not len(x_y) ==2 : \n",
        "        raise AttributeError(\"2 axes sont demandées\")   \n",
        "    if max(x_y )>= X_.shape[1] : \n",
        "        raise AttributeError(\"la variable axis n'est pas bonne\")   \n",
        "\n",
        "    # on définit x et y \n",
        "    x, y = x_y\n",
        "\n",
        "    # Initialisation de la figure       \n",
        "    fig, ax = plt.subplots(1, 1, figsize=figsize)\n",
        "\n",
        "    # On vérifie s'il y a des clusters ou non\n",
        "    c = None if clusters is None else clusters\n",
        " \n",
        "    # Les points    \n",
        "    # plt.scatter(   X_[:, x], X_[:, y], alpha=alpha, \n",
        "    #                     c=c, cmap=\"Set1\", marker=marker)\n",
        "    sns.scatterplot(data=None, x=X_[:, x], y=X_[:, y], hue=c)\n",
        "\n",
        "    # Si la variable pca a été fournie, on peut calculer le % de variance de chaque axe \n",
        "    if pca : \n",
        "        v1 = str(round(100*pca.explained_variance_ratio_[x]))  + \" %\"\n",
        "        v2 = str(round(100*pca.explained_variance_ratio_[y]))  + \" %\"\n",
        "    else : \n",
        "        v1=v2= ''\n",
        "\n",
        "    # Nom des axes, avec le pourcentage d'inertie expliqué\n",
        "    ax.set_xlabel(f'F{x+1} {v1}')\n",
        "    ax.set_ylabel(f'F{y+1} {v2}')\n",
        "\n",
        "    # Valeur x max et y max\n",
        "    x_max = np.abs(X_[:, x]).max() *1.1\n",
        "    y_max = np.abs(X_[:, y]).max() *1.1\n",
        "\n",
        "    # On borne x et y \n",
        "    ax.set_xlim(left=-x_max, right=x_max)\n",
        "    ax.set_ylim(bottom= -y_max, top=y_max)\n",
        "\n",
        "    # Affichage des lignes horizontales et verticales\n",
        "    plt.plot([-x_max, x_max], [0, 0], color='grey', alpha=0.8)\n",
        "    plt.plot([0,0], [-y_max, y_max], color='grey', alpha=0.8)\n",
        "\n",
        "    # Affichage des labels des points\n",
        "    if len(labels) : \n",
        "        # j'ai copié collé la fonction sans la lire\n",
        "        for i,(_x,_y) in enumerate(X_[:,[x,y]]):\n",
        "            plt.text(_x, _y+0.05, labels[i], fontsize='14', ha='center',va='center') \n",
        "\n",
        "    # Titre et display\n",
        "    plt.title(f\"Projection des individus (sur F{x+1} et F{y+1})\")\n",
        "    plt.show()\n",
        "\n"
      ],
      "metadata": {
        "id": "Voc4WRTcbw7x"
      },
      "execution_count": null,
      "outputs": []
    },
    {
      "cell_type": "markdown",
      "source": [
        "Essayons la version *simple* avec F1 et F2, les couleurs correspondent au niveau de difficulté : "
      ],
      "metadata": {
        "id": "x4DQx8ECcoj1"
      }
    },
    {
      "cell_type": "code",
      "source": [
        "x_y = [0,1]\n",
        "display_factorial_planes(X_proj, x_y, clusters=df['difficulte'])"
      ],
      "metadata": {
        "colab": {
          "base_uri": "https://localhost:8080/",
          "height": 518
        },
        "id": "atBlYise4eIk",
        "outputId": "420bb7ca-0c83-4fa1-a189-2c09efd5c5dc"
      },
      "execution_count": null,
      "outputs": [
        {
          "output_type": "display_data",
          "data": {
            "text/plain": [
              "<Figure size 720x576 with 1 Axes>"
            ],
            "image/png": "[encoded data removed]"
          },
          "metadata": {}
        }
      ]
    },
    {
      "cell_type": "markdown",
      "source": [
        "Intéressant, mais il manque quelques éléments...\n",
        "\n",
        "Essayons la version plus *élaborée* avec F1 et F2 : "
      ],
      "metadata": {
        "id": "w43dmV854pjy"
      }
    },
    {
      "cell_type": "code",
      "source": [
        "x_y = [0,1]\n",
        "display_factorial_planes(X_proj, x_y, pca, labels=names, figsize=(20,16), clusters=df['difficulte'], marker=\"o\")"
      ],
      "metadata": {
        "colab": {
          "base_uri": "https://localhost:8080/",
          "height": 953
        },
        "id": "IMMKS92ab6Z8",
        "outputId": "dbda3caa-3e0b-4ea4-8f86-fde658e94ca0"
      },
      "execution_count": null,
      "outputs": [
        {
          "output_type": "display_data",
          "data": {
            "text/plain": [
              "<Figure size 1440x1152 with 1 Axes>"
            ],
            "image/png": "[encoded data removed]"
          },
          "metadata": {}
        }
      ]
    },
    {
      "cell_type": "code",
      "source": [],
      "metadata": {
        "id": "TeE1I99nujG7"
      },
      "execution_count": null,
      "outputs": []
    },
    {
      "cell_type": "markdown",
      "source": [
        "Beaucoup mieux ! \n",
        "\n",
        "Essayons avec F2 et F3 : "
      ],
      "metadata": {
        "id": "jbBVLXtYdF-A"
      }
    },
    {
      "cell_type": "code",
      "source": [
        "x_y = 1,2\n",
        "display_factorial_planes(X_proj, x_y, pca, labels=names, figsize=(20,16), clusters=df['difficulte'],marker=\"o\")"
      ],
      "metadata": {
        "colab": {
          "base_uri": "https://localhost:8080/",
          "height": 953
        },
        "id": "f9N1my2BaED2",
        "outputId": "57644e1e-a13b-493e-f5b3-96df357ede80"
      },
      "execution_count": null,
      "outputs": [
        {
          "output_type": "display_data",
          "data": {
            "text/plain": [
              "<Figure size 1440x1152 with 1 Axes>"
            ],
            "image/png": "[encoded data removed]"
          },
          "metadata": {}
        }
      ]
    },
    {
      "cell_type": "markdown",
      "source": [
        "# 4 Conclusion"
      ],
      "metadata": {
        "id": "U2ptEGeiH8Dm"
      }
    },
    {
      "cell_type": "markdown",
      "source": [
        "Vous êtes arrivé au bout de ce travail, Bravo!\n",
        "\n",
        "Il ne reste plus qu'à vous entrainer sur d'autres jeux de données 😀.\n",
        "\n",
        "<br>\n",
        "\n",
        "------------------\n",
        "\n",
        "<br>"
      ],
      "metadata": {
        "id": "irBu3CDYIAz8"
      }
    },
    {
      "cell_type": "markdown",
      "source": [
        "En cas de questions, n'hésitez pas à nous adresser vos questions, remarques ou suggestions sur le [formulaire](https://openclassrooms.zendesk.com/hc/fr/requests/new) .\n",
        "\n"
      ],
      "metadata": {
        "id": "fgtKyMs4IF9P"
      }
    },
    {
      "cell_type": "code",
      "source": [],
      "metadata": {
        "id": "O_sLHmFVD_Vg"
      },
      "execution_count": null,
      "outputs": []
    }
  ]
}